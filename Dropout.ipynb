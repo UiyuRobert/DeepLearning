{
 "cells": [
  {
   "cell_type": "markdown",
   "id": "27fd5132-9e0c-4bbb-9777-1c4fc0a34848",
   "metadata": {},
   "source": [
    "# Dropout"
   ]
  },
  {
   "cell_type": "markdown",
   "id": "b56eeb91-e811-44ab-99c7-945e9a9d833c",
   "metadata": {},
   "source": [
    "### 实现 dropout_layer 函数"
   ]
  },
  {
   "cell_type": "markdown",
   "id": "9ff922f9-2f3a-4d35-9963-e70582506c6b",
   "metadata": {},
   "source": [
    "该函数以dropout的概率丢弃张量输入X中的元素\n",
    "- `torch.rand(X.shape)`：生成与X相同形状的随机数矩阵，值在[0,1)之间\n",
    "- `> dropout`：比较每个随机数是否大于dropout率\n",
    "- `.float()`：将布尔值转换为浮点数（True→1.0, False→0.0）"
   ]
  },
  {
   "cell_type": "code",
   "execution_count": 6,
   "id": "8dbf1d43-6ba0-4930-b259-b0fa05a7c173",
   "metadata": {},
   "outputs": [],
   "source": [
    "import torch\n",
    "from torch import nn\n",
    "\n",
    "def dropout_layer(X, dropout):\n",
    "    assert 0 <= dropout <= 1\n",
    "    if dropout == 1:\n",
    "        return torch.zeros_like(X)\n",
    "    if dropout == 0:\n",
    "        return X\n",
    "\n",
    "    mask = (torch.rand(X.shape) > dropout).float()\n",
    "    return mask * X / (1 - dropout) # 保持期望值不变"
   ]
  },
  {
   "cell_type": "code",
   "execution_count": 5,
   "id": "5273bb05-9240-40ec-9ff5-4f83b3748c2e",
   "metadata": {},
   "outputs": [
    {
     "name": "stdout",
     "output_type": "stream",
     "text": [
      "tensor([[ 0.,  1.,  2.,  3.,  4.,  5.,  6.,  7.],\n",
      "        [ 8.,  9., 10., 11., 12., 13., 14., 15.]])\n",
      "tensor([[ 0.,  1.,  2.,  3.,  4.,  5.,  6.,  7.],\n",
      "        [ 8.,  9., 10., 11., 12., 13., 14., 15.]])\n",
      "tensor([[ 0.,  2.,  0.,  0.,  0., 10., 12., 14.],\n",
      "        [16., 18., 20., 22.,  0., 26.,  0., 30.]])\n",
      "tensor([[0., 0., 0., 0., 0., 0., 0., 0.],\n",
      "        [0., 0., 0., 0., 0., 0., 0., 0.]])\n"
     ]
    }
   ],
   "source": [
    "X = torch.arange(16, dtype=torch.float32).reshape(2, 8)\n",
    "print(X)\n",
    "print(dropout_layer(X, 0.))\n",
    "print(dropout_layer(X, 0.5))\n",
    "print(dropout_layer(X, 1.))"
   ]
  },
  {
   "cell_type": "markdown",
   "id": "9801c24b-63ab-492d-8fcc-9b1757fa6ca5",
   "metadata": {},
   "source": [
    "### 定义模型参数"
   ]
  },
  {
   "cell_type": "code",
   "execution_count": 7,
   "id": "4b598c1f-e85d-48c0-8350-3cdf34c3c564",
   "metadata": {},
   "outputs": [],
   "source": [
    "num_inputs, num_outputs, num_hidden1, num_hidden2 = 784, 10, 256, 256"
   ]
  },
  {
   "cell_type": "markdown",
   "id": "e23e126a-def8-4823-9be8-df550f357bf7",
   "metadata": {},
   "source": [
    "### 定义模型"
   ]
  },
  {
   "cell_type": "code",
   "execution_count": 13,
   "id": "cee6761b-0730-48c0-89e4-97e7bcec239c",
   "metadata": {},
   "outputs": [],
   "source": [
    "dropout1, dropout2 = 0.2, 0.5\n",
    "\n",
    "class Net(nn.Module):\n",
    "    def __init__(self, num_inputs, num_outputs, num_hidden1, num_hidden2, is_training=True):\n",
    "        super(Net, self).__init__()\n",
    "        self.num_inputs = num_inputs\n",
    "        self.training = is_training\n",
    "        self.lin1 = nn.Linear(self.num_inputs, num_hidden1)\n",
    "        self.lin2 = nn.Linear(num_hidden1, num_hidden2)\n",
    "        self.lin3 = nn.Linear(num_hidden2, num_outputs)\n",
    "        self.relu = nn.ReLU()\n",
    "\n",
    "    def forward(self, X):\n",
    "        H1 = self.relu(self.lin1(X.reshape(-1, self.num_inputs)))\n",
    "        if self.training == True:\n",
    "            H1 = dropout_layer(H1, dropout1)\n",
    "        H2 = self.relu(self.lin2(H1))\n",
    "        if self.training == True:\n",
    "            H2 = dropout_layer(H2, dropout2)\n",
    "        out = self.lin3(H2)\n",
    "        return out\n",
    "\n",
    "net = Net(num_inputs, num_outputs, num_hidden1, num_hidden2)"
   ]
  },
  {
   "cell_type": "markdown",
   "id": "1a233266-5b24-49af-88c6-b89239dcf3bc",
   "metadata": {},
   "source": [
    "### 训练与测试"
   ]
  },
  {
   "cell_type": "code",
   "execution_count": 16,
   "id": "a5e68c90-f8a6-4e9d-8a6b-f8e7420f8015",
   "metadata": {},
   "outputs": [
    {
     "data": {
      "image/png": "[encoded data removed]",
      "text/plain": [
       "<Figure size 350x250 with 1 Axes>"
      ]
     },
     "metadata": {},
     "output_type": "display_data"
    }
   ],
   "source": [
    "num_epochs, lr, batch_size = 10, 0.5, 256\n",
    "\n",
    "train_iter, test_iter = load_data_fashion_mnist(batch_size)\n",
    "\n",
    "trainer = torch.optim.SGD(net.parameters(), lr=lr)\n",
    "loss = nn.CrossEntropyLoss(reduction='none')\n",
    "\n",
    "train_ch3(net, train_iter, test_iter, loss, num_epochs, trainer)"
   ]
  },
  {
   "cell_type": "markdown",
   "id": "33fae0fd-d373-415f-a2cb-e75659a15532",
   "metadata": {},
   "source": [
    "### 简洁实现"
   ]
  },
  {
   "cell_type": "code",
   "execution_count": 15,
   "id": "23b8d373-fb54-48d7-9a11-939d7f7b9b25",
   "metadata": {},
   "outputs": [
    {
     "data": {
      "text/plain": [
       "Sequential(\n",
       "  (0): Flatten(start_dim=1, end_dim=-1)\n",
       "  (1): Linear(in_features=784, out_features=256, bias=True)\n",
       "  (2): ReLU()\n",
       "  (3): Dropout(p=0.2, inplace=False)\n",
       "  (4): Linear(in_features=256, out_features=256, bias=True)\n",
       "  (5): ReLU()\n",
       "  (6): Dropout(p=0.5, inplace=False)\n",
       "  (7): Linear(in_features=256, out_features=10, bias=True)\n",
       ")"
      ]
     },
     "execution_count": 15,
     "metadata": {},
     "output_type": "execute_result"
    }
   ],
   "source": [
    "net = nn.Sequential(\n",
    "    nn.Flatten(),\n",
    "    nn.Linear(num_inputs, num_hidden1),\n",
    "    nn.ReLU(),\n",
    "    nn.Dropout(dropout1),\n",
    "    nn.Linear(num_hidden1, num_hidden2),\n",
    "    nn.ReLU(),\n",
    "    nn.Dropout(dropout2),\n",
    "    nn.Linear(num_hidden2, num_outputs)\n",
    ")\n",
    "\n",
    "def init_weights(m):\n",
    "    if type(m) == nn.Linear:\n",
    "        nn.init.normal_(m.weight, std=0.1)\n",
    "\n",
    "net.apply(init_weights)"
   ]
  },
  {
   "cell_type": "markdown",
   "id": "5adc70d8-5e4a-484f-afc0-9e85f59ce82f",
   "metadata": {},
   "source": [
    "### 库函数"
   ]
  },
  {
   "cell_type": "code",
   "execution_count": 10,
   "id": "d1840da5-69e8-4d5b-8538-13bda2c93dfb",
   "metadata": {},
   "outputs": [],
   "source": [
    "import torch\n",
    "from torch import nn\n",
    "from torch.utils import data\n",
    "import torchvision\n",
    "from torchvision import transforms\n",
    "\n",
    "def load_data_fashion_mnist(batch_size, resize=None):\n",
    "    \"\"\"下载Fashion-MNIST数据集，然后将其加载到内存中\"\"\"\n",
    "    trans = [transforms.ToTensor()]\n",
    "    if resize:\n",
    "        trans.insert(0, transforms.Resize(resize))\n",
    "    trans = transforms.Compose(trans)\n",
    "\n",
    "    mnist_train = torchvision.datasets.FashionMNIST(root='./data', train=True, \n",
    "                                                   transform=trans, download=True)\n",
    "    mnist_test = torchvision.datasets.FashionMNIST(root='./data', train=False, \n",
    "                                                   transform=trans, download=True)\n",
    "\n",
    "    return (data.DataLoader(mnist_train, batch_size=batch_size, shuffle=True, \n",
    "                          num_workers=get_dataloader_workers()), \n",
    "            data.DataLoader(mnist_test, batch_size=batch_size, shuffle=False, \n",
    "                          num_workers=get_dataloader_workers()))\n",
    "\n",
    "def get_dataloader_workers():\n",
    "    return 4\n",
    "\n",
    "def accuracy(y_hat, y):\n",
    "    \"\"\" 计算预测正确的数量 \"\"\"\n",
    "    if len(y_hat.shape) > 1 and y_hat.shape[1] > 1: # 至少有两个维度，第二个维度数量大于1（也就是不止1列）\n",
    "        y_hat = y_hat.argmax(axis=1) # 选出每行最大的元素的下标，作为新的y_hat\n",
    "\n",
    "    cmp = y_hat.type(y.dtype) == y # == 对数据类型敏感，所以对y_hat类型转化为y的类型\n",
    "    return float(cmp.type(y.dtype).sum())\n",
    "\n",
    "class Accumulator:\n",
    "    \"\"\"在n个变量上累加\"\"\"\n",
    "    def __init__(self, n):\n",
    "        self.data = [0.0] * n\n",
    "\n",
    "    def add(self, *args):\n",
    "        self.data = [a + float(b) for a, b in zip(self.data, args)]\n",
    "\n",
    "    def reset(self):\n",
    "        self.data = [0.0] * len(self.data)\n",
    "\n",
    "    def __getitem__(self, idx):\n",
    "        return self.data[idx]\n",
    "\n",
    "def evaluate_accuracy(net, data_iter):\n",
    "    \"\"\"计算在指定数据集上模型的精度\"\"\"\n",
    "    if isinstance(net, torch.nn.Module):\n",
    "        net.eval() # 切换到评估模式，确保结果一致性\n",
    "    metric = Accumulator(2) # 2 个元素的累加器\n",
    "    with torch.no_grad():\n",
    "        for X, y in data_iter:\n",
    "            metric.add(accuracy(net(X), y), y.numel()) # 不断累加预测正确的数量、总预测数量\n",
    "\n",
    "    return metric[0] / metric[1]\n",
    "\n",
    "def train_epoch_ch3(net, train_iter, loss, updater):\n",
    "    \"\"\" 训练模型一个迭代周期 \"\"\"\n",
    "    if isinstance(net, torch.nn.Module):\n",
    "        net.train() # 将模型设置为训练模式\n",
    "\n",
    "    metric = Accumulator(3) # 训练损失总和、训练准确数总和、样本数\n",
    "    for X, y in train_iter:\n",
    "        y_hat = net(X)\n",
    "        l = loss(y_hat, y) # 先预测\n",
    "        # 计算梯度并更新参数\n",
    "        if isinstance(updater, torch.optim.Optimizer):\n",
    "            # 使用PyTorch内置的优化器和损失函数\n",
    "            updater.zero_grad() # 清除上一轮的旧梯度\n",
    "            l.mean().backward() # 反向传播：计算当前梯度\n",
    "            updater.step() # 参数更新：应用梯度更新权重\n",
    "        else:\n",
    "            # 使用定制的优化器和损失函数\n",
    "            l.sum().backward()\n",
    "            updater(X.shape[0])\n",
    "\n",
    "        metric.add(float(l.sum()), accuracy(y_hat, y), y.numel())\n",
    "\n",
    "    # 返回训练损失和训练精度\n",
    "    return metric[0] / metric[2], metric[1] / metric[2]\n",
    "\n",
    "import matplotlib.pyplot as plt\n",
    "from IPython import display\n",
    "\n",
    "class Animator:\n",
    "    \"\"\"在动画中绘制数据\"\"\"\n",
    "    def __init__(self, xlabel=None, ylabel=None, legend=None, xlim=None,\n",
    "                 ylim=None, xscale='linear', yscale='linear',\n",
    "                 fmts=('-', 'm--', 'g-.', 'r:'), nrows=1, ncols=1,\n",
    "                 figsize=(3.5, 2.5)):\n",
    "        # 增量地绘制多条线\n",
    "        if legend is None:\n",
    "            legend = []\n",
    "        \n",
    "        # 设置 SVG 显示\n",
    "        plt.rcParams['figure.figsize'] = figsize\n",
    "        plt.rcParams['svg.fonttype'] = 'none'  # 使 SVG 中的文本可编辑\n",
    "        \n",
    "        self.fig, self.axes = plt.subplots(nrows, ncols, figsize=figsize)\n",
    "        if nrows * ncols == 1:\n",
    "            self.axes = [self.axes]\n",
    "        else:\n",
    "            self.axes = self.axes.flatten()\n",
    "        \n",
    "        # 配置坐标轴\n",
    "        self.config_axes = lambda ax: self._set_axes(\n",
    "            ax, xlabel, ylabel, xlim, ylim, xscale, yscale, legend)\n",
    "        \n",
    "        self.X, self.Y, self.fmts = None, None, fmts\n",
    "        self.legend = legend\n",
    "\n",
    "    def _set_axes(self, ax, xlabel, ylabel, xlim, ylim, xscale, yscale, legend):\n",
    "        \"\"\"设置坐标轴属性\"\"\"\n",
    "        if xlabel:\n",
    "            ax.set_xlabel(xlabel)\n",
    "        if ylabel:\n",
    "            ax.set_ylabel(ylabel)\n",
    "        if xlim:\n",
    "            ax.set_xlim(xlim)\n",
    "        if ylim:\n",
    "            ax.set_ylim(ylim)\n",
    "        if xscale:\n",
    "            ax.set_xscale(xscale)\n",
    "        if yscale:\n",
    "            ax.set_yscale(yscale)\n",
    "        if legend:\n",
    "            ax.legend(legend)\n",
    "        ax.grid(True)\n",
    "\n",
    "    def add(self, x, y):\n",
    "        \"\"\"向图表中添加多个数据点\"\"\"\n",
    "        if not hasattr(y, \"__len__\"):\n",
    "            y = [y]\n",
    "        n = len(y)\n",
    "        if not hasattr(x, \"__len__\"):\n",
    "            x = [x] * n\n",
    "        \n",
    "        # 初始化数据存储\n",
    "        if self.X is None:\n",
    "            self.X = [[] for _ in range(n)]\n",
    "        if self.Y is None:\n",
    "            self.Y = [[] for _ in range(n)]\n",
    "        \n",
    "        # 添加数据点\n",
    "        for i, (a, b) in enumerate(zip(x, y)):\n",
    "            if a is not None and b is not None:\n",
    "                self.X[i].append(a)\n",
    "                self.Y[i].append(b)\n",
    "        \n",
    "        # 清除并重新绘制\n",
    "        self.axes[0].cla()\n",
    "        for i, (x_data, y_data, fmt) in enumerate(zip(self.X, self.Y, self.fmts)):\n",
    "            if x_data and y_data:  # 确保有数据可绘制\n",
    "                self.axes[0].plot(x_data, y_data, fmt)\n",
    "        \n",
    "        # 配置坐标轴\n",
    "        self.config_axes(self.axes[0])\n",
    "        \n",
    "        # 显示图形\n",
    "        display.display(self.fig)\n",
    "        display.clear_output(wait=True)\n",
    "\n",
    "    def close(self):\n",
    "        \"\"\"关闭图形\"\"\"\n",
    "        plt.close(self.fig)\n",
    "\n",
    "def train_ch3(net, train_iter, test_iter, loss, num_epochs, updater):\n",
    "    \"\"\"训练模型\"\"\"\n",
    "    # 定义一个动画显示\n",
    "    animator = Animator(xlabel='epoch', xlim=[1, num_epochs], ylim=[0.3, 0.9],\n",
    "                        legend=['train loss', 'train acc', 'test acc'])\n",
    "    for epoch in range(num_epochs):\n",
    "        train_metrics = train_epoch_ch3(net, train_iter, loss, updater)\n",
    "        test_acc = evaluate_accuracy(net, test_iter)\n",
    "        animator.add(epoch + 1, train_metrics + (test_acc,))\n",
    "        \n",
    "    train_loss, train_acc = train_metrics\n",
    "    # 检测\n",
    "    assert train_loss < 0.5, train_loss\n",
    "    assert train_acc <= 1 and train_acc > 0.7, train_acc\n",
    "    assert test_acc <= 1 and test_acc > 0.7, test_acc\n"
   ]
  },
  {
   "cell_type": "code",
   "execution_count": null,
   "id": "ad637015-442b-4541-a97d-780809224a52",
   "metadata": {},
   "outputs": [],
   "source": []
  }
 ],
 "metadata": {
  "kernelspec": {
   "display_name": "Python 3 (ipykernel)",
   "language": "python",
   "name": "python3"
  },
  "language_info": {
   "codemirror_mode": {
    "name": "ipython",
    "version": 3
   },
   "file_extension": ".py",
   "mimetype": "text/x-python",
   "name": "python",
   "nbconvert_exporter": "python",
   "pygments_lexer": "ipython3",
   "version": "3.13.2"
  }
 },
 "nbformat": 4,
 "nbformat_minor": 5
}
