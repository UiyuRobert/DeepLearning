{
 "cells": [
  {
   "cell_type": "markdown",
   "id": "7a360232-15d6-44bf-bc26-b76ed42f6f81",
   "metadata": {},
   "source": [
    "# 多层感知机实现"
   ]
  },
  {
   "cell_type": "markdown",
   "id": "64a5c4f7-e39f-445f-8483-495e5dc05cab",
   "metadata": {},
   "source": [
    "### 预备函数"
   ]
  },
  {
   "cell_type": "code",
   "execution_count": 19,
   "id": "f0fa57f3-a472-4126-a0d2-05a15fd6dfb6",
   "metadata": {},
   "outputs": [],
   "source": [
    "import torch\n",
    "from torch import nn\n",
    "from torch.utils import data\n",
    "import torchvision\n",
    "from torchvision import transforms\n",
    "\n",
    "def load_data_fashion_mnist(batch_size, resize=None):\n",
    "    \"\"\"下载Fashion-MNIST数据集，然后将其加载到内存中\"\"\"\n",
    "    trans = [transforms.ToTensor()]\n",
    "    if resize:\n",
    "        trans.insert(0, transforms.Resize(resize))\n",
    "    trans = transforms.Compose(trans)\n",
    "\n",
    "    mnist_train = torchvision.datasets.FashionMNIST(root='./data', train=True, \n",
    "                                                   transform=trans, download=True)\n",
    "    mnist_test = torchvision.datasets.FashionMNIST(root='./data', train=False, \n",
    "                                                   transform=trans, download=True)\n",
    "\n",
    "    return (data.DataLoader(mnist_train, batch_size=batch_size, shuffle=True, \n",
    "                          num_workers=get_dataloader_workers()), \n",
    "            data.DataLoader(mnist_test, batch_size=batch_size, shuffle=False, \n",
    "                          num_workers=get_dataloader_workers()))\n",
    "\n",
    "def get_dataloader_workers():\n",
    "    return 4\n",
    "\n",
    "def accuracy(y_hat, y):\n",
    "    \"\"\" 计算预测正确的数量 \"\"\"\n",
    "    if len(y_hat.shape) > 1 and y_hat.shape[1] > 1: # 至少有两个维度，第二个维度数量大于1（也就是不止1列）\n",
    "        y_hat = y_hat.argmax(axis=1) # 选出每行最大的元素的下标，作为新的y_hat\n",
    "\n",
    "    cmp = y_hat.type(y.dtype) == y # == 对数据类型敏感，所以对y_hat类型转化为y的类型\n",
    "    return float(cmp.type(y.dtype).sum())\n",
    "\n",
    "class Accumulator:\n",
    "    \"\"\"在n个变量上累加\"\"\"\n",
    "    def __init__(self, n):\n",
    "        self.data = [0.0] * n\n",
    "\n",
    "    def add(self, *args):\n",
    "        self.data = [a + float(b) for a, b in zip(self.data, args)]\n",
    "\n",
    "    def reset(self):\n",
    "        self.data = [0.0] * len(self.data)\n",
    "\n",
    "    def __getitem__(self, idx):\n",
    "        return self.data[idx]\n",
    "\n",
    "def evaluate_accuracy(net, data_iter):\n",
    "    \"\"\"计算在指定数据集上模型的精度\"\"\"\n",
    "    if isinstance(net, torch.nn.Module):\n",
    "        net.eval() # 切换到评估模式，确保结果一致性\n",
    "    metric = Accumulator(2) # 2 个元素的累加器\n",
    "    with torch.no_grad():\n",
    "        for X, y in data_iter:\n",
    "            metric.add(accuracy(net(X), y), y.numel()) # 不断累加预测正确的数量、总预测数量\n",
    "\n",
    "    return metric[0] / metric[1]\n",
    "\n",
    "def train_epoch_ch3(net, train_iter, loss, updater):\n",
    "    \"\"\" 训练模型一个迭代周期 \"\"\"\n",
    "    if isinstance(net, torch.nn.Module):\n",
    "        net.train() # 将模型设置为训练模式\n",
    "\n",
    "    metric = Accumulator(3) # 训练损失总和、训练准确数总和、样本数\n",
    "    for X, y in train_iter:\n",
    "        y_hat = net(X)\n",
    "        l = loss(y_hat, y) # 先预测\n",
    "        # 计算梯度并更新参数\n",
    "        if isinstance(updater, torch.optim.Optimizer):\n",
    "            # 使用PyTorch内置的优化器和损失函数\n",
    "            updater.zero_grad() # 清除上一轮的旧梯度\n",
    "            l.mean().backward() # 反向传播：计算当前梯度\n",
    "            updater.step() # 参数更新：应用梯度更新权重\n",
    "        else:\n",
    "            # 使用定制的优化器和损失函数\n",
    "            l.sum().backward()\n",
    "            updater(X.shape[0])\n",
    "\n",
    "        metric.add(float(l.sum()), accuracy(y_hat, y), y.numel())\n",
    "\n",
    "    # 返回训练损失和训练精度\n",
    "    return metric[0] / metric[2], metric[1] / metric[2]\n",
    "\n",
    "import matplotlib.pyplot as plt\n",
    "from IPython import display\n",
    "\n",
    "class Animator:\n",
    "    \"\"\"在动画中绘制数据\"\"\"\n",
    "    def __init__(self, xlabel=None, ylabel=None, legend=None, xlim=None,\n",
    "                 ylim=None, xscale='linear', yscale='linear',\n",
    "                 fmts=('-', 'm--', 'g-.', 'r:'), nrows=1, ncols=1,\n",
    "                 figsize=(3.5, 2.5)):\n",
    "        # 增量地绘制多条线\n",
    "        if legend is None:\n",
    "            legend = []\n",
    "        \n",
    "        # 设置 SVG 显示\n",
    "        plt.rcParams['figure.figsize'] = figsize\n",
    "        plt.rcParams['svg.fonttype'] = 'none'  # 使 SVG 中的文本可编辑\n",
    "        \n",
    "        self.fig, self.axes = plt.subplots(nrows, ncols, figsize=figsize)\n",
    "        if nrows * ncols == 1:\n",
    "            self.axes = [self.axes]\n",
    "        else:\n",
    "            self.axes = self.axes.flatten()\n",
    "        \n",
    "        # 配置坐标轴\n",
    "        self.config_axes = lambda ax: self._set_axes(\n",
    "            ax, xlabel, ylabel, xlim, ylim, xscale, yscale, legend)\n",
    "        \n",
    "        self.X, self.Y, self.fmts = None, None, fmts\n",
    "        self.legend = legend\n",
    "\n",
    "    def _set_axes(self, ax, xlabel, ylabel, xlim, ylim, xscale, yscale, legend):\n",
    "        \"\"\"设置坐标轴属性\"\"\"\n",
    "        if xlabel:\n",
    "            ax.set_xlabel(xlabel)\n",
    "        if ylabel:\n",
    "            ax.set_ylabel(ylabel)\n",
    "        if xlim:\n",
    "            ax.set_xlim(xlim)\n",
    "        if ylim:\n",
    "            ax.set_ylim(ylim)\n",
    "        if xscale:\n",
    "            ax.set_xscale(xscale)\n",
    "        if yscale:\n",
    "            ax.set_yscale(yscale)\n",
    "        if legend:\n",
    "            ax.legend(legend)\n",
    "        ax.grid(True)\n",
    "\n",
    "    def add(self, x, y):\n",
    "        \"\"\"向图表中添加多个数据点\"\"\"\n",
    "        if not hasattr(y, \"__len__\"):\n",
    "            y = [y]\n",
    "        n = len(y)\n",
    "        if not hasattr(x, \"__len__\"):\n",
    "            x = [x] * n\n",
    "        \n",
    "        # 初始化数据存储\n",
    "        if self.X is None:\n",
    "            self.X = [[] for _ in range(n)]\n",
    "        if self.Y is None:\n",
    "            self.Y = [[] for _ in range(n)]\n",
    "        \n",
    "        # 添加数据点\n",
    "        for i, (a, b) in enumerate(zip(x, y)):\n",
    "            if a is not None and b is not None:\n",
    "                self.X[i].append(a)\n",
    "                self.Y[i].append(b)\n",
    "        \n",
    "        # 清除并重新绘制\n",
    "        self.axes[0].cla()\n",
    "        for i, (x_data, y_data, fmt) in enumerate(zip(self.X, self.Y, self.fmts)):\n",
    "            if x_data and y_data:  # 确保有数据可绘制\n",
    "                self.axes[0].plot(x_data, y_data, fmt)\n",
    "        \n",
    "        # 配置坐标轴\n",
    "        self.config_axes(self.axes[0])\n",
    "        \n",
    "        # 显示图形\n",
    "        display.display(self.fig)\n",
    "        display.clear_output(wait=True)\n",
    "\n",
    "    def close(self):\n",
    "        \"\"\"关闭图形\"\"\"\n",
    "        plt.close(self.fig)\n",
    "\n",
    "def train_ch3(net, train_iter, test_iter, loss, num_epochs, updater):\n",
    "    \"\"\"训练模型\"\"\"\n",
    "    # 定义一个动画显示\n",
    "    animator = Animator(xlabel='epoch', xlim=[1, num_epochs], ylim=[0.3, 0.9],\n",
    "                        legend=['train loss', 'train acc', 'test acc'])\n",
    "    for epoch in range(num_epochs):\n",
    "        train_metrics = train_epoch_ch3(net, train_iter, loss, updater)\n",
    "        test_acc = evaluate_accuracy(net, test_iter)\n",
    "        animator.add(epoch + 1, train_metrics + (test_acc,))\n",
    "        \n",
    "    train_loss, train_acc = train_metrics\n",
    "    # 检测\n",
    "    assert train_loss < 0.5, train_loss\n",
    "    assert train_acc <= 1 and train_acc > 0.7, train_acc\n",
    "    assert test_acc <= 1 and test_acc > 0.7, test_acc\n"
   ]
  },
  {
   "cell_type": "markdown",
   "id": "9c6f2bf0-4740-484e-8074-d667b6d822ab",
   "metadata": {},
   "source": [
    "### 准备数据"
   ]
  },
  {
   "cell_type": "code",
   "execution_count": 15,
   "id": "f823c072-cdc0-484a-a0aa-ae3e38665b72",
   "metadata": {},
   "outputs": [],
   "source": [
    "batch_size = 256\n",
    "train_iter, test_iter = load_data_fashion_mnist(batch_size)"
   ]
  },
  {
   "cell_type": "markdown",
   "id": "119ec71f-4a36-4897-9f74-d58d46286ae1",
   "metadata": {},
   "source": [
    "### 实现一个单隐藏层的多层感知机"
   ]
  },
  {
   "cell_type": "code",
   "execution_count": 25,
   "id": "3263c5a8-f948-4ba5-b7a8-dc749fb49c62",
   "metadata": {},
   "outputs": [],
   "source": [
    "num_inputs, num_hiddens, num_outputs = 784, 256, 10\n",
    "\n",
    "W1 = nn.Parameter(torch.randn(num_inputs, num_hiddens, requires_grad=True) * 0.01)\n",
    "b1 = nn.Parameter(torch.zeros(num_hiddens, requires_grad=True))\n",
    "\n",
    "W2 = nn.Parameter(torch.randn(num_hiddens, num_outputs, requires_grad=True) * 0.01)\n",
    "b2 = nn.Parameter(torch.zeros(num_outputs, requires_grad=True))\n",
    "# 乘 0.01 是为了防止梯度爆炸\n",
    "\n",
    "params = [W1, b1, W2, b2]"
   ]
  },
  {
   "cell_type": "markdown",
   "id": "7dedafa4-5324-4aed-9933-5aa89cf57644",
   "metadata": {},
   "source": [
    "#### 实现ReLU函数"
   ]
  },
  {
   "cell_type": "code",
   "execution_count": 17,
   "id": "ddc02818-4f74-43ea-9fd6-7e5cafce6c01",
   "metadata": {},
   "outputs": [
    {
     "data": {
      "text/plain": [
       "tensor([2., 0.])"
      ]
     },
     "execution_count": 17,
     "metadata": {},
     "output_type": "execute_result"
    }
   ],
   "source": [
    "def ReLU(X):\n",
    "    a = torch.zeros_like(X)\n",
    "    return torch.max(X, a)\n",
    "\n",
    "x = torch.tensor([2, -3.4])\n",
    "ReLU(x)"
   ]
  },
  {
   "cell_type": "markdown",
   "id": "456c6afa-644c-434c-84b6-88d4844b42d2",
   "metadata": {},
   "source": [
    "#### 定义网络"
   ]
  },
  {
   "cell_type": "code",
   "execution_count": 21,
   "id": "a4d086f9-7abc-402d-b7eb-5fe978e6bd79",
   "metadata": {},
   "outputs": [],
   "source": [
    "def net(X):\n",
    "    X = X.reshape(-1, num_inputs)\n",
    "    H = ReLU(X @ W1 + b1)\n",
    "    return (H @ W2 + b2)\n",
    "\n",
    "loss = nn.CrossEntropyLoss()"
   ]
  },
  {
   "cell_type": "markdown",
   "id": "23f43a25-f596-4e45-8188-20dda454d100",
   "metadata": {},
   "source": [
    "#### 开始训练"
   ]
  },
  {
   "cell_type": "code",
   "execution_count": 26,
   "id": "03775c36-d221-4319-b56d-c7705ce69ca9",
   "metadata": {},
   "outputs": [
    {
     "data": {
      "image/png": "[encoded data removed]",
      "text/plain": [
       "<Figure size 350x250 with 1 Axes>"
      ]
     },
     "metadata": {},
     "output_type": "display_data"
    }
   ],
   "source": [
    "num_epochs, lr = 10, 0.07\n",
    "updater = torch.optim.SGD(params, lr=lr)\n",
    "train_ch3(net, train_iter, test_iter, loss, num_epochs, updater)"
   ]
  },
  {
   "cell_type": "markdown",
   "id": "c73c387f-55e6-4578-b9e1-38eef9438c16",
   "metadata": {},
   "source": [
    "# 多层感知机简洁实现"
   ]
  },
  {
   "cell_type": "code",
   "execution_count": 29,
   "id": "e91820fb-680e-4504-b0d1-18e9bf009a09",
   "metadata": {},
   "outputs": [
    {
     "data": {
      "text/plain": [
       "Sequential(\n",
       "  (0): Flatten(start_dim=1, end_dim=-1)\n",
       "  (1): Linear(in_features=784, out_features=256, bias=True)\n",
       "  (2): ReLU()\n",
       "  (3): Linear(in_features=256, out_features=10, bias=True)\n",
       ")"
      ]
     },
     "execution_count": 29,
     "metadata": {},
     "output_type": "execute_result"
    }
   ],
   "source": [
    "net = nn.Sequential(\n",
    "    nn.Flatten(),\n",
    "    nn.Linear(num_inputs, num_hiddens),\n",
    "    nn.ReLU(),\n",
    "    nn.Linear(num_hiddens, num_outputs)\n",
    ")\n",
    "\n",
    "def init_weights(m):\n",
    "    if type(m) == nn.Linear:\n",
    "        nn.init.normal_(m.weight, std=0.01)\n",
    "net.apply(init_weights)"
   ]
  },
  {
   "cell_type": "code",
   "execution_count": 30,
   "id": "a6f36d97-1960-4777-9974-684d8ae7344a",
   "metadata": {},
   "outputs": [
    {
     "data": {
      "image/png": "[encoded data removed]",
      "text/plain": [
       "<Figure size 350x250 with 1 Axes>"
      ]
     },
     "metadata": {},
     "output_type": "display_data"
    }
   ],
   "source": [
    "batch_size, lr, num_epochs = 256, 0.1, 10\n",
    "train_iter, test_iter = load_data_fashion_mnist(batch_size)\n",
    "loss = nn.CrossEntropyLoss()\n",
    "trainer = torch.optim.SGD(net.parameters(), lr=lr)\n",
    "train_ch3(net, train_iter, test_iter, loss, num_epochs, trainer)"
   ]
  },
  {
   "cell_type": "code",
   "execution_count": null,
   "id": "3397a1c8-98b8-449e-ae98-8c39e3bacabc",
   "metadata": {},
   "outputs": [],
   "source": []
  }
 ],
 "metadata": {
  "kernelspec": {
   "display_name": "Python 3 (ipykernel)",
   "language": "python",
   "name": "python3"
  },
  "language_info": {
   "codemirror_mode": {
    "name": "ipython",
    "version": 3
   },
   "file_extension": ".py",
   "mimetype": "text/x-python",
   "name": "python",
   "nbconvert_exporter": "python",
   "pygments_lexer": "ipython3",
   "version": "3.13.2"
  }
 },
 "nbformat": 4,
 "nbformat_minor": 5
}
