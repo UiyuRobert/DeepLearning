{
 "cells": [
  {
   "cell_type": "markdown",
   "id": "e508869e-38f4-432e-a6e7-88800d07915d",
   "metadata": {},
   "source": [
    "# 权重衰退、正则化"
   ]
  },
  {
   "cell_type": "markdown",
   "id": "90864455-519f-4254-ada7-fd3d48f88147",
   "metadata": {},
   "source": [
    "### 库函数"
   ]
  },
  {
   "cell_type": "code",
   "execution_count": 10,
   "id": "972612ae-f13f-4d99-848f-6c48a31ba866",
   "metadata": {},
   "outputs": [],
   "source": [
    "import matplotlib.pyplot as plt\n",
    "from IPython import display\n",
    "\n",
    "class Animator:\n",
    "    \"\"\"在动画中绘制数据\"\"\"\n",
    "    def __init__(self, xlabel=None, ylabel=None, legend=None, xlim=None,\n",
    "                 ylim=None, xscale='linear', yscale='linear',\n",
    "                 fmts=('-', 'm--', 'g-.', 'r:'), nrows=1, ncols=1,\n",
    "                 figsize=(3.5, 2.5)):\n",
    "        # 增量地绘制多条线\n",
    "        if legend is None:\n",
    "            legend = []\n",
    "        \n",
    "        # 设置 SVG 显示\n",
    "        plt.rcParams['figure.figsize'] = figsize\n",
    "        plt.rcParams['svg.fonttype'] = 'none'  # 使 SVG 中的文本可编辑\n",
    "        \n",
    "        self.fig, self.axes = plt.subplots(nrows, ncols, figsize=figsize)\n",
    "        if nrows * ncols == 1:\n",
    "            self.axes = [self.axes]\n",
    "        else:\n",
    "            self.axes = self.axes.flatten()\n",
    "        \n",
    "        # 配置坐标轴\n",
    "        self.config_axes = lambda ax: self._set_axes(\n",
    "            ax, xlabel, ylabel, xlim, ylim, xscale, yscale, legend)\n",
    "        \n",
    "        self.X, self.Y, self.fmts = None, None, fmts\n",
    "        self.legend = legend\n",
    "\n",
    "    def _set_axes(self, ax, xlabel, ylabel, xlim, ylim, xscale, yscale, legend):\n",
    "        \"\"\"设置坐标轴属性\"\"\"\n",
    "        if xlabel:\n",
    "            ax.set_xlabel(xlabel)\n",
    "        if ylabel:\n",
    "            ax.set_ylabel(ylabel)\n",
    "        if xlim:\n",
    "            ax.set_xlim(xlim)\n",
    "        if ylim:\n",
    "            ax.set_ylim(ylim)\n",
    "        if xscale:\n",
    "            ax.set_xscale(xscale)\n",
    "        if yscale:\n",
    "            ax.set_yscale(yscale)\n",
    "        if legend:\n",
    "            ax.legend(legend)\n",
    "        ax.grid(True)\n",
    "\n",
    "    def add(self, x, y):\n",
    "        \"\"\"向图表中添加多个数据点\"\"\"\n",
    "        if not hasattr(y, \"__len__\"):\n",
    "            y = [y]\n",
    "        n = len(y)\n",
    "        if not hasattr(x, \"__len__\"):\n",
    "            x = [x] * n\n",
    "        \n",
    "        # 初始化数据存储\n",
    "        if self.X is None:\n",
    "            self.X = [[] for _ in range(n)]\n",
    "        if self.Y is None:\n",
    "            self.Y = [[] for _ in range(n)]\n",
    "        \n",
    "        # 添加数据点\n",
    "        for i, (a, b) in enumerate(zip(x, y)):\n",
    "            if a is not None and b is not None:\n",
    "                self.X[i].append(a)\n",
    "                self.Y[i].append(b)\n",
    "        \n",
    "        # 清除并重新绘制\n",
    "        self.axes[0].cla()\n",
    "        for i, (x_data, y_data, fmt) in enumerate(zip(self.X, self.Y, self.fmts)):\n",
    "            if x_data and y_data:  # 确保有数据可绘制\n",
    "                self.axes[0].plot(x_data, y_data, fmt)\n",
    "        \n",
    "        # 配置坐标轴\n",
    "        self.config_axes(self.axes[0])\n",
    "        \n",
    "        # 显示图形\n",
    "        display.display(self.fig)\n",
    "        display.clear_output(wait=True)\n",
    "\n",
    "    def close(self):\n",
    "        \"\"\"关闭图形\"\"\"\n",
    "        plt.close(self.fig)\n",
    "\n",
    "def sgd(params, lr, batch_size):\n",
    "    \"\"\"小批量随机梯度下降\"\"\"\n",
    "    with torch.no_grad():\n",
    "        for param in params:\n",
    "            param -= lr * param.grad / batch_size # 求导数不影响乘除法，这里除是因为要用平均损失\n",
    "            param.grad.zero_()\n",
    "\n",
    "def linreg(X, w, b):\n",
    "    return torch.matmul(X, w) + b\n",
    "\n",
    "def square_loss(y_hat, y):\n",
    "    \"\"\"均方损失\"\"\"\n",
    "    return (y_hat - y.reshape(y_hat.shape)) ** 2 / 2"
   ]
  },
  {
   "cell_type": "markdown",
   "id": "c696ab8d-bb3d-47ac-b6fe-2886b984f91d",
   "metadata": {},
   "source": [
    "### 生成数据"
   ]
  },
  {
   "cell_type": "code",
   "execution_count": 4,
   "id": "8e753629-01f4-4478-9869-c635a0ad8c05",
   "metadata": {},
   "outputs": [],
   "source": [
    "import torch\n",
    "from torch import nn\n",
    "from torch.utils import data"
   ]
  },
  {
   "cell_type": "code",
   "execution_count": 5,
   "id": "defb5c8f-6096-419a-9fdf-efe84ccc7615",
   "metadata": {},
   "outputs": [],
   "source": [
    "# 构造一个人造数据集\n",
    "def synthetic_data(w, b, example_num):\n",
    "    \"\"\"生成 y=Xw+b 噪声\"\"\"\n",
    "    X = torch.normal(0, 1, (example_num, len(w)))\n",
    "    y = torch.matmul(X, w) + b\n",
    "    y += torch.normal(0, 0.01, y.shape)\n",
    "    return X, y.reshape((-1, 1)) # -1自动计算，1代表列向量\n",
    "\n",
    "def load_array(load_arrays, batch_size, is_train=True):\n",
    "    \"\"\"构造一个Pytorch数据迭代器\"\"\"\n",
    "    dataset = data.TensorDataset(*load_arrays)\n",
    "    return data.DataLoader(dataset, batch_size, shuffle=is_train)"
   ]
  },
  {
   "cell_type": "code",
   "execution_count": 6,
   "id": "da5a1ae0-c749-4a25-ba77-8267174bb15d",
   "metadata": {},
   "outputs": [],
   "source": [
    "n_train, n_test, num_inputs, batch_size = 20, 100, 200, 5\n",
    "true_w, true_b = torch.ones(num_inputs, 1) * 0.01, 0.05\n",
    "train_data = synthetic_data(true_w, true_b, n_train)\n",
    "train_iter = load_array(train_data, batch_size)\n",
    "test_data = synthetic_data(true_w, true_b, n_test)\n",
    "test_iter = load_array(test_data, batch_size)"
   ]
  },
  {
   "cell_type": "markdown",
   "id": "b7afa6e8-4174-45f1-a88a-596487b8e400",
   "metadata": {},
   "source": [
    "### 初始化模型参数"
   ]
  },
  {
   "cell_type": "code",
   "execution_count": 8,
   "id": "d96a1dcd-0517-4b3b-988f-b992538e1b19",
   "metadata": {},
   "outputs": [],
   "source": [
    "def init_params():\n",
    "    w = torch.normal(0, 1, (num_inputs, 1), requires_gard=True)\n",
    "    b = torch.zeros(1, requires_gard=True)\n",
    "    return [w, b]"
   ]
  },
  {
   "cell_type": "markdown",
   "id": "5f2dc704-d486-4c0d-b371-abfc0ac3726f",
   "metadata": {},
   "source": [
    "### 定义$L_{2}$范数惩罚"
   ]
  },
  {
   "cell_type": "code",
   "execution_count": 9,
   "id": "d37f3bc8-ba9e-4ae6-afba-600d3e743c09",
   "metadata": {},
   "outputs": [],
   "source": [
    "def l2_penalty(w):\n",
    "    return torch.sum(w.pow(2)) / 2"
   ]
  },
  {
   "cell_type": "markdown",
   "id": "05cb86ed-2654-4393-9a58-4256f575e08d",
   "metadata": {},
   "source": [
    "### 训练"
   ]
  },
  {
   "cell_type": "code",
   "execution_count": null,
   "id": "9bb39080-5f95-4293-9976-a4d53dbe46ac",
   "metadata": {},
   "outputs": [],
   "source": [
    "def train(lambd):\n",
    "    w, b = init_params()\n",
    "    net, loss = lambda X : linreg(X, w, b), square_loss\n",
    "    num_epochs, lr = 100, 0.03\n",
    "    animator = Animator(xlabel='epochs', ylabel='loss', yscale='log',\n",
    "                            xlim=[5, num_epochs], legend=['train', 'test'])\n",
    "    for epoch in range(num_epochs):\n",
    "        for X, y in train_iter:\n",
    "            l = loss(net(X), y) + lambd * l2_penalty(w)\n",
    "            l.sum().backward()"
   ]
  }
 ],
 "metadata": {
  "kernelspec": {
   "display_name": "Python 3 (ipykernel)",
   "language": "python",
   "name": "python3"
  },
  "language_info": {
   "codemirror_mode": {
    "name": "ipython",
    "version": 3
   },
   "file_extension": ".py",
   "mimetype": "text/x-python",
   "name": "python",
   "nbconvert_exporter": "python",
   "pygments_lexer": "ipython3",
   "version": "3.13.2"
  }
 },
 "nbformat": 4,
 "nbformat_minor": 5
}
