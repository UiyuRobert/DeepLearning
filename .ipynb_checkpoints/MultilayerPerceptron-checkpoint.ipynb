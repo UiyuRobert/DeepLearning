{
 "cells": [
  {
   "cell_type": "markdown",
   "id": "7a360232-15d6-44bf-bc26-b76ed42f6f81",
   "metadata": {},
   "source": [
    "# 多层感知机实现"
   ]
  },
  {
   "cell_type": "markdown",
   "id": "64a5c4f7-e39f-445f-8483-495e5dc05cab",
   "metadata": {},
   "source": [
    "### 预备函数"
   ]
  },
  {
   "cell_type": "code",
   "execution_count": 9,
   "id": "f0fa57f3-a472-4126-a0d2-05a15fd6dfb6",
   "metadata": {},
   "outputs": [],
   "source": [
    "import torch\n",
    "from torch import nn\n",
    "from torch.utils import data\n",
    "import torchvision\n",
    "from torchvision import transforms\n",
    "\n",
    "def load_data_fashion_mnist(batch_size, resize=None):\n",
    "    \"\"\"下载Fashion-MNIST数据集，然后将其加载到内存中\"\"\"\n",
    "    trans = [transforms.ToTensor()]\n",
    "    if resize:\n",
    "        trans.insert(0, transforms.Resize(resize))\n",
    "    trans = transforms.Compose(trans)\n",
    "\n",
    "    mnist_train = torchvision.datasets.FashionMNIST(root='./data', train=True, \n",
    "                                                   transform=trans, download=True)\n",
    "    mnist_test = torchvision.datasets.FashionMNIST(root='./data', train=False, \n",
    "                                                   transform=trans, download=True)\n",
    "\n",
    "    return (data.DataLoader(mnist_train, batch_size=batch_size, shuffle=True, \n",
    "                          num_workers=get_dataloader_workers()), \n",
    "            data.DataLoader(mnist_test, batch_size=batch_size, shuffle=False, \n",
    "                          num_workers=get_dataloader_workers()))\n",
    "\n",
    "def get_dataloader_workers():\n",
    "    return 4\n"
   ]
  },
  {
   "cell_type": "markdown",
   "id": "9c6f2bf0-4740-484e-8074-d667b6d822ab",
   "metadata": {},
   "source": [
    "### 准备数据"
   ]
  },
  {
   "cell_type": "code",
   "execution_count": 10,
   "id": "f823c072-cdc0-484a-a0aa-ae3e38665b72",
   "metadata": {},
   "outputs": [],
   "source": [
    "batch_size = 256\n",
    "train_iter, test_iter = load_data_fashion_mnist(batch_size)"
   ]
  },
  {
   "cell_type": "code",
   "execution_count": null,
   "id": "1188c529-9d03-4bb6-a7bd-9ded8e34e2d5",
   "metadata": {},
   "outputs": [],
   "source": []
  }
 ],
 "metadata": {
  "kernelspec": {
   "display_name": "Python 3 (ipykernel)",
   "language": "python",
   "name": "python3"
  },
  "language_info": {
   "codemirror_mode": {
    "name": "ipython",
    "version": 3
   },
   "file_extension": ".py",
   "mimetype": "text/x-python",
   "name": "python",
   "nbconvert_exporter": "python",
   "pygments_lexer": "ipython3",
   "version": "3.13.2"
  }
 },
 "nbformat": 4,
 "nbformat_minor": 5
}
