{
 "cells": [
  {
   "cell_type": "markdown",
   "id": "12b0f8a6-71e2-4c14-a254-8c1c8ee51bf5",
   "metadata": {
    "jp-MarkdownHeadingCollapsed": true
   },
   "source": [
    "# 数据操作部分"
   ]
  },
  {
   "cell_type": "code",
   "execution_count": 2,
   "id": "4c97025e-b5d5-4db0-8abb-54885fde1d80",
   "metadata": {},
   "outputs": [],
   "source": [
    "import torch"
   ]
  },
  {
   "cell_type": "markdown",
   "id": "606ab79a-e3f5-4d54-8b52-d32539e552da",
   "metadata": {},
   "source": [
    "张量就是数值组成的向量，可以有多个维度。arange(number)用来限定数值，不包括右端"
   ]
  },
  {
   "cell_type": "code",
   "execution_count": 3,
   "id": "3fd2f013-7997-4f53-99a4-0ba3b0facd5b",
   "metadata": {},
   "outputs": [
    {
     "data": {
      "text/plain": [
       "tensor([ 0,  1,  2,  3,  4,  5,  6,  7,  8,  9, 10, 11])"
      ]
     },
     "execution_count": 3,
     "metadata": {},
     "output_type": "execute_result"
    }
   ],
   "source": [
    "x = torch.arange(12)\n",
    "x"
   ]
  },
  {
   "cell_type": "markdown",
   "id": "c1790eb0-ef65-4fc7-a1ec-69cc484c9618",
   "metadata": {},
   "source": [
    "通过shape访问张量的形状、张量中元素的个数；\n",
    "numel 是 number of element，元素的数量，为标量"
   ]
  },
  {
   "cell_type": "code",
   "execution_count": 4,
   "id": "fba7777c-fa3d-44e2-8e9a-b79992c62dff",
   "metadata": {},
   "outputs": [
    {
     "data": {
      "text/plain": [
       "torch.Size([12])"
      ]
     },
     "execution_count": 4,
     "metadata": {},
     "output_type": "execute_result"
    }
   ],
   "source": [
    "x.shape"
   ]
  },
  {
   "cell_type": "code",
   "execution_count": 5,
   "id": "3dafa4c0-71aa-44f1-97f6-71a427f6006a",
   "metadata": {},
   "outputs": [
    {
     "data": {
      "text/plain": [
       "12"
      ]
     },
     "execution_count": 5,
     "metadata": {},
     "output_type": "execute_result"
    }
   ],
   "source": [
    "x.numel()"
   ]
  },
  {
   "cell_type": "markdown",
   "id": "3d441345-3b85-4b27-a432-d426e2ce23eb",
   "metadata": {},
   "source": [
    "要改变张量的形状，而不改变元素和元素个数，用 `reshape()` 函数"
   ]
  },
  {
   "cell_type": "code",
   "execution_count": 6,
   "id": "b49c39f0-5073-4729-9db8-c89fe90b0ece",
   "metadata": {},
   "outputs": [
    {
     "data": {
      "text/plain": [
       "(tensor([[ 0,  1,  2,  3],\n",
       "         [ 4,  5,  6,  7],\n",
       "         [ 8,  9, 10, 11]]),\n",
       " torch.Size([3, 4]))"
      ]
     },
     "execution_count": 6,
     "metadata": {},
     "output_type": "execute_result"
    }
   ],
   "source": [
    "x = x.reshape(3, 4)\n",
    "x, x.shape"
   ]
  },
  {
   "cell_type": "markdown",
   "id": "6f271d9d-458e-41ea-882e-5a11a7f55b80",
   "metadata": {},
   "source": [
    "构造全0、全1的特殊张量"
   ]
  },
  {
   "cell_type": "code",
   "execution_count": 15,
   "id": "89e7b57b-96a3-456f-ae1e-51803b5de801",
   "metadata": {},
   "outputs": [
    {
     "data": {
      "text/plain": [
       "tensor([[[0., 0., 0., 0.],\n",
       "         [0., 0., 0., 0.],\n",
       "         [0., 0., 0., 0.]],\n",
       "\n",
       "        [[0., 0., 0., 0.],\n",
       "         [0., 0., 0., 0.],\n",
       "         [0., 0., 0., 0.]]])"
      ]
     },
     "execution_count": 15,
     "metadata": {},
     "output_type": "execute_result"
    }
   ],
   "source": [
    "torch.zeros((2, 3, 4))"
   ]
  },
  {
   "cell_type": "code",
   "execution_count": 16,
   "id": "c72db8a7-4a22-4e57-a32a-fda8bf6e31bc",
   "metadata": {},
   "outputs": [
    {
     "data": {
      "text/plain": [
       "tensor([[[1., 1., 1., 1.],\n",
       "         [1., 1., 1., 1.],\n",
       "         [1., 1., 1., 1.]],\n",
       "\n",
       "        [[1., 1., 1., 1.],\n",
       "         [1., 1., 1., 1.],\n",
       "         [1., 1., 1., 1.]]])"
      ]
     },
     "execution_count": 16,
     "metadata": {},
     "output_type": "execute_result"
    }
   ],
   "source": [
    "torch.ones((2, 3, 4))"
   ]
  },
  {
   "cell_type": "markdown",
   "id": "808e8fb5-c077-418f-9a40-a5f658ade75c",
   "metadata": {},
   "source": [
    "通过提供包含数值的python列表来为所需张量中每个元素赋值"
   ]
  },
  {
   "cell_type": "code",
   "execution_count": 18,
   "id": "be48090b-bb35-48ff-b4dc-edb252cedcd5",
   "metadata": {},
   "outputs": [
    {
     "data": {
      "text/plain": [
       "tensor([[1, 2, 3],\n",
       "        [1, 3, 4],\n",
       "        [4, 2, 1]])"
      ]
     },
     "execution_count": 18,
     "metadata": {},
     "output_type": "execute_result"
    }
   ],
   "source": [
    "torch.tensor([[1, 2, 3], [1, 3, 4], [4, 2, 1]])"
   ]
  },
  {
   "cell_type": "markdown",
   "id": "997322f3-dec1-4afc-aad4-55675269d277",
   "metadata": {},
   "source": [
    "张量可以进行运算，按照对应元素进行；运算函数也是按照张量中单个元素进行的"
   ]
  },
  {
   "cell_type": "code",
   "execution_count": 20,
   "id": "40b087d4-58b2-48a2-bfc6-0449a28f1f48",
   "metadata": {},
   "outputs": [
    {
     "data": {
      "text/plain": [
       "(tensor([ 3.,  6., 12.]),\n",
       " tensor([-1., -2., -4.]),\n",
       " tensor([ 2.,  8., 32.]),\n",
       " tensor([0.5000, 0.5000, 0.5000]),\n",
       " tensor([1.0000e+00, 1.6000e+01, 6.5536e+04]),\n",
       " tensor([ 2.7183,  7.3891, 54.5981]))"
      ]
     },
     "execution_count": 20,
     "metadata": {},
     "output_type": "execute_result"
    }
   ],
   "source": [
    "x = torch.tensor([1.0, 2, 4])\n",
    "y = torch.tensor([2, 4, 8])\n",
    "x + y, x - y, x * y, x / y, x**y, torch.exp(x)"
   ]
  },
  {
   "cell_type": "markdown",
   "id": "01919776-004c-44c5-9a58-daa6b6878951",
   "metadata": {},
   "source": [
    "连接多个张量，dim等于几就意味着要扩充对应的维度"
   ]
  },
  {
   "cell_type": "code",
   "execution_count": 21,
   "id": "28f4c2a9-2662-4721-a7fc-2ec10049f457",
   "metadata": {},
   "outputs": [
    {
     "data": {
      "text/plain": [
       "(tensor([[ 0.,  1.,  2.,  3.],\n",
       "         [ 4.,  5.,  6.,  7.],\n",
       "         [ 8.,  9., 10., 11.],\n",
       "         [ 1.,  2.,  4.,  8.],\n",
       "         [ 2.,  3.,  4.,  5.],\n",
       "         [ 4.,  3.,  2.,  1.]]),\n",
       " tensor([[ 0.,  1.,  2.,  3.,  1.,  2.,  4.,  8.],\n",
       "         [ 4.,  5.,  6.,  7.,  2.,  3.,  4.,  5.],\n",
       "         [ 8.,  9., 10., 11.,  4.,  3.,  2.,  1.]]))"
      ]
     },
     "execution_count": 21,
     "metadata": {},
     "output_type": "execute_result"
    }
   ],
   "source": [
    "x = torch.arange(12, dtype=torch.float32).reshape((3, 4))\n",
    "y = torch.tensor([[1.0, 2, 4, 8], [2, 3, 4, 5], [4, 3, 2, 1]])\n",
    "torch.cat((x, y), dim=0), torch.cat((x, y), dim=1)"
   ]
  },
  {
   "cell_type": "markdown",
   "id": "5a94933b-e6cf-4492-80e1-5b40f083882a",
   "metadata": {},
   "source": [
    "通过逻辑运算符操作张量，得到一个二元张量"
   ]
  },
  {
   "cell_type": "code",
   "execution_count": 22,
   "id": "84f263ed-1add-4b97-ad85-1f5cf28d8fde",
   "metadata": {},
   "outputs": [
    {
     "data": {
      "text/plain": [
       "tensor([[False, False, False, False],\n",
       "        [False, False, False, False],\n",
       "        [False, False, False, False]])"
      ]
     },
     "execution_count": 22,
     "metadata": {},
     "output_type": "execute_result"
    }
   ],
   "source": [
    "x == y"
   ]
  },
  {
   "cell_type": "markdown",
   "id": "757c12aa-c48d-43ed-af77-a90d4bc1a31e",
   "metadata": {},
   "source": [
    "对张量中所有元素进行求和会得到一个只有一个元素的张量"
   ]
  },
  {
   "cell_type": "code",
   "execution_count": 23,
   "id": "1619c136-e64c-4eac-9fce-23f1228ed03f",
   "metadata": {},
   "outputs": [
    {
     "data": {
      "text/plain": [
       "tensor(66.)"
      ]
     },
     "execution_count": 23,
     "metadata": {},
     "output_type": "execute_result"
    }
   ],
   "source": [
    "x.sum()"
   ]
  },
  {
   "cell_type": "markdown",
   "id": "9e7cb03c-8182-4eab-bb07-ca838bbf008d",
   "metadata": {},
   "source": [
    "如果两个张量维度相同、形状不同，可以通过 **广播机制（broadcasting mechanism）** 进行相加，通过复制来补充缺少的部分"
   ]
  },
  {
   "cell_type": "code",
   "execution_count": 25,
   "id": "3cc483fb-74d7-4122-b4ab-961541ce4104",
   "metadata": {},
   "outputs": [
    {
     "data": {
      "text/plain": [
       "(tensor([[0],\n",
       "         [1],\n",
       "         [2]]),\n",
       " tensor([0, 1]),\n",
       " tensor([[0, 1],\n",
       "         [1, 2],\n",
       "         [2, 3]]))"
      ]
     },
     "execution_count": 25,
     "metadata": {},
     "output_type": "execute_result"
    }
   ],
   "source": [
    "x = torch.arange(3).reshape((3, 1))\n",
    "y = torch.arange(2)\n",
    "x, y, x+y"
   ]
  },
  {
   "cell_type": "markdown",
   "id": "cc6bb4c2-2f56-4f26-8777-4cc20d6fea4d",
   "metadata": {},
   "source": [
    "元素访问，x[-1,:]访问第一个维度下最后一个元素，x[1:3,:]访问第一个维度下第一个和第二个元素，不包括第三个"
   ]
  },
  {
   "cell_type": "code",
   "execution_count": 27,
   "id": "9f5f63b9-48e0-48e7-947b-93b7eb686ed9",
   "metadata": {},
   "outputs": [
    {
     "data": {
      "text/plain": [
       "(tensor([[ 0.,  1.,  2.,  3.],\n",
       "         [ 4.,  5.,  6.,  7.],\n",
       "         [ 8.,  9., 10., 11.]]),\n",
       " tensor([ 8.,  9., 10., 11.]),\n",
       " tensor([[ 4.,  5.,  6.,  7.],\n",
       "         [ 8.,  9., 10., 11.]]))"
      ]
     },
     "execution_count": 27,
     "metadata": {},
     "output_type": "execute_result"
    }
   ],
   "source": [
    "x = torch.arange(12, dtype=torch.float32).reshape((3, 4))\n",
    "x,x[-1],x[1:3]"
   ]
  },
  {
   "cell_type": "code",
   "execution_count": null,
   "id": "4dbe9d0d-eb81-4386-a228-a9213ae45829",
   "metadata": {},
   "outputs": [],
   "source": [
    "可以制定元素的索引来修改元素"
   ]
  },
  {
   "cell_type": "code",
   "execution_count": 28,
   "id": "0cc45064-84a3-4546-aa69-f813b05cbff7",
   "metadata": {},
   "outputs": [
    {
     "data": {
      "text/plain": [
       "tensor([[ 0.,  1.,  2.,  3.],\n",
       "        [ 4.,  5.,  6.,  7.],\n",
       "        [ 8.,  9., 10., 12.]])"
      ]
     },
     "execution_count": 28,
     "metadata": {},
     "output_type": "execute_result"
    }
   ],
   "source": [
    "x[2, 3] = 12.0\n",
    "x"
   ]
  },
  {
   "cell_type": "markdown",
   "id": "ef15d3e5-b8ed-4bd1-8a36-f91aa8d4734e",
   "metadata": {},
   "source": [
    "为多个元素赋相同值，可以索引所有元素，然后赋值"
   ]
  },
  {
   "cell_type": "code",
   "execution_count": 29,
   "id": "43edae87-de66-4c38-84fa-adf6f4d7125b",
   "metadata": {},
   "outputs": [
    {
     "data": {
      "text/plain": [
       "tensor([[ 0.,  1.,  2.,  3.],\n",
       "        [12., 12., 12., 12.],\n",
       "        [12., 12., 12., 12.]])"
      ]
     },
     "execution_count": 29,
     "metadata": {},
     "output_type": "execute_result"
    }
   ],
   "source": [
    "x[1:3,:] = 12\n",
    "x"
   ]
  },
  {
   "cell_type": "code",
   "execution_count": null,
   "id": "39c8c4a2-4ecf-4e18-94b0-0be113d5c990",
   "metadata": {},
   "outputs": [],
   "source": [
    "运行一部分操作时可能出现为新结果分配新对象"
   ]
  },
  {
   "cell_type": "code",
   "execution_count": 31,
   "id": "9aecad82-40a8-4bb6-9a12-8e08e07c4172",
   "metadata": {},
   "outputs": [
    {
     "data": {
      "text/plain": [
       "False"
      ]
     },
     "execution_count": 31,
     "metadata": {},
     "output_type": "execute_result"
    }
   ],
   "source": [
    "y = torch.arange(12, dtype=torch.float32).reshape((3, 4))\n",
    "before = id(x)\n",
    "x = x + y\n",
    "id(x) == before"
   ]
  },
  {
   "cell_type": "markdown",
   "id": "c754a58f-440f-4b65-be1b-01d58e843041",
   "metadata": {},
   "source": [
    "执行原地操作（ `+=` 对于可变对象而言，不创建新的对象）"
   ]
  },
  {
   "cell_type": "code",
   "execution_count": 32,
   "id": "0cf134a3-232e-425d-970f-4a85ca8c4476",
   "metadata": {},
   "outputs": [
    {
     "data": {
      "text/plain": [
       "True"
      ]
     },
     "execution_count": 32,
     "metadata": {},
     "output_type": "execute_result"
    }
   ],
   "source": [
    "before = id(x)\n",
    "x += y\n",
    "id(x) == before"
   ]
  },
  {
   "cell_type": "code",
   "execution_count": 33,
   "id": "b6b2d43a-41a1-4399-8a1d-be6dd7f4fb4b",
   "metadata": {},
   "outputs": [
    {
     "data": {
      "text/plain": [
       "True"
      ]
     },
     "execution_count": 33,
     "metadata": {},
     "output_type": "execute_result"
    }
   ],
   "source": [
    "before = id(x)\n",
    "x[:] = x + y\n",
    "id(x) == before"
   ]
  },
  {
   "cell_type": "markdown",
   "id": "17cf4eba-bbc3-4d9f-89b1-79b0eab46911",
   "metadata": {},
   "source": [
    "转换为 NumPy 类型"
   ]
  },
  {
   "cell_type": "code",
   "execution_count": 34,
   "id": "cf0dfe4b-9135-4875-8406-68beda00fd78",
   "metadata": {},
   "outputs": [
    {
     "data": {
      "text/plain": [
       "(numpy.ndarray, torch.Tensor)"
      ]
     },
     "execution_count": 34,
     "metadata": {},
     "output_type": "execute_result"
    }
   ],
   "source": [
    "a = x.numpy()\n",
    "b = torch.tensor(a)\n",
    "type(a), type(b)"
   ]
  },
  {
   "cell_type": "markdown",
   "id": "d1c15ea2-f78b-48cc-a1dd-17a5053bfbb4",
   "metadata": {},
   "source": [
    "将大小为 1 的张量转换为 Python 标量"
   ]
  },
  {
   "cell_type": "code",
   "execution_count": 36,
   "id": "246e3325-531d-419e-8eb2-28b63828e88f",
   "metadata": {},
   "outputs": [
    {
     "data": {
      "text/plain": [
       "(tensor([3.5000]), torch.Tensor, 3.5, float, 3.5, float, 3, int)"
      ]
     },
     "execution_count": 36,
     "metadata": {},
     "output_type": "execute_result"
    }
   ],
   "source": [
    "a = torch.tensor([3.5])\n",
    "a, type(a), a.item(), type(a.item()), float(a), type(float(a)), int(a), type(int(a))"
   ]
  },
  {
   "cell_type": "markdown",
   "id": "19ca212b-a258-4fce-b1df-472adbc3c63a",
   "metadata": {
    "jp-MarkdownHeadingCollapsed": true
   },
   "source": [
    "# 数据预处理部分"
   ]
  },
  {
   "cell_type": "markdown",
   "id": "f0dff3fd-e2b1-4fe7-b3e1-ad9c74c0928e",
   "metadata": {},
   "source": [
    "创建一个人工数据集，并存储在csv（逗号分割值）文件下"
   ]
  },
  {
   "cell_type": "code",
   "execution_count": 38,
   "id": "4fd2359d-abc8-4bde-ba96-c9f18406199a",
   "metadata": {},
   "outputs": [],
   "source": [
    "import os\n",
    "os.makedirs(os.path.join('.', 'data'), exist_ok=True)\n",
    "data_file = os.path.join('.', 'data', 'house_tiny.csv')\n",
    "with open(data_file, 'w') as f:\n",
    "    f.write('NumRooms,Alley,Price\\n') # 列名\n",
    "    f.write('NA,Pave,127500\\n')  # 每行表示一个数据样本\n",
    "    f.write('2,NA,106000\\n')\n",
    "    f.write('4,NA,178100\\n')\n",
    "    f.write('NA,NA,140000\\n')"
   ]
  },
  {
   "cell_type": "markdown",
   "id": "215268b5-b78a-4e7b-bfe1-cc26c24da11c",
   "metadata": {},
   "source": [
    "从创建的csv文件中读取数据"
   ]
  },
  {
   "cell_type": "code",
   "execution_count": 39,
   "id": "d586c41b-eb89-4792-9b81-1bd36acc06fe",
   "metadata": {},
   "outputs": [
    {
     "name": "stdout",
     "output_type": "stream",
     "text": [
      "   NumRooms Alley   Price\n",
      "0       NaN  Pave  127500\n",
      "1       2.0   NaN  106000\n",
      "2       4.0   NaN  178100\n",
      "3       NaN   NaN  140000\n"
     ]
    }
   ],
   "source": [
    "import pandas as pd\n",
    "data = pd.read_csv(data_file)\n",
    "print(data)"
   ]
  },
  {
   "cell_type": "markdown",
   "id": "329946d8-d3f9-4644-8dd7-91da0238bd17",
   "metadata": {},
   "source": [
    "处理缺失数据，最常用的方法是**插值和删除**"
   ]
  },
  {
   "cell_type": "code",
   "execution_count": 49,
   "id": "73998b32-da77-4560-9668-c0f9a7987976",
   "metadata": {},
   "outputs": [
    {
     "data": {
      "text/html": [
       "<div>\n",
       "<style scoped>\n",
       "    .dataframe tbody tr th:only-of-type {\n",
       "        vertical-align: middle;\n",
       "    }\n",
       "\n",
       "    .dataframe tbody tr th {\n",
       "        vertical-align: top;\n",
       "    }\n",
       "\n",
       "    .dataframe thead th {\n",
       "        text-align: right;\n",
       "    }\n",
       "</style>\n",
       "<table border=\"1\" class=\"dataframe\">\n",
       "  <thead>\n",
       "    <tr style=\"text-align: right;\">\n",
       "      <th></th>\n",
       "      <th>NumRooms</th>\n",
       "      <th>Alley</th>\n",
       "    </tr>\n",
       "  </thead>\n",
       "  <tbody>\n",
       "    <tr>\n",
       "      <th>0</th>\n",
       "      <td>3.0</td>\n",
       "      <td>Pave</td>\n",
       "    </tr>\n",
       "    <tr>\n",
       "      <th>1</th>\n",
       "      <td>2.0</td>\n",
       "      <td>NaN</td>\n",
       "    </tr>\n",
       "    <tr>\n",
       "      <th>2</th>\n",
       "      <td>4.0</td>\n",
       "      <td>NaN</td>\n",
       "    </tr>\n",
       "    <tr>\n",
       "      <th>3</th>\n",
       "      <td>3.0</td>\n",
       "      <td>NaN</td>\n",
       "    </tr>\n",
       "  </tbody>\n",
       "</table>\n",
       "</div>"
      ],
      "text/plain": [
       "   NumRooms Alley\n",
       "0       3.0  Pave\n",
       "1       2.0   NaN\n",
       "2       4.0   NaN\n",
       "3       3.0   NaN"
      ]
     },
     "execution_count": 49,
     "metadata": {},
     "output_type": "execute_result"
    }
   ],
   "source": [
    "# .iloc 是Pandas中用于基于位置的索引的方法，意思是“integer location”。\n",
    "# 它使用基于整数的索引（从0开始）来选择行和列。其语法是 data.iloc[行选择, 列选择]。\n",
    "inputs, outputs = data.iloc[:, 0:2], data.iloc[:, 2]\n",
    "inputs.iloc[:, 0] = inputs.iloc[:, 0].fillna(inputs.iloc[:, 0].mean()) # 用均值填充缺失值\n",
    "inputs"
   ]
  },
  {
   "cell_type": "code",
   "execution_count": 50,
   "id": "c262b5b7-4069-42bc-b194-574fc112903d",
   "metadata": {},
   "outputs": [
    {
     "name": "stdout",
     "output_type": "stream",
     "text": [
      "   NumRooms  Alley_Pave  Alley_nan\n",
      "0       3.0           1          0\n",
      "1       2.0           0          1\n",
      "2       4.0           0          1\n",
      "3       3.0           0          1\n"
     ]
    }
   ],
   "source": [
    "# pd.get_dummies 是Pandas库中用于执行独热编码（One-Hot Encoding） 的函数\n",
    "# dummy_na 设置为 True 时，它不仅为每个类别创建新列，还会为缺失值（NaN）单独创建一个新的指示列\n",
    "inputs = pd.get_dummies(inputs, dummy_na=True, dtype=int)\n",
    "print(inputs)"
   ]
  },
  {
   "cell_type": "code",
   "execution_count": 51,
   "id": "5a10b0c1-ee1f-4b62-bd50-dbee8ef6a2f4",
   "metadata": {},
   "outputs": [
    {
     "data": {
      "text/plain": [
       "(tensor([[3., 1., 0.],\n",
       "         [2., 0., 1.],\n",
       "         [4., 0., 1.],\n",
       "         [3., 0., 1.]], dtype=torch.float64),\n",
       " tensor([127500, 106000, 178100, 140000]))"
      ]
     },
     "execution_count": 51,
     "metadata": {},
     "output_type": "execute_result"
    }
   ],
   "source": [
    "x, y = torch.tensor(inputs.values), torch.tensor(outputs.values)\n",
    "x, y"
   ]
  },
  {
   "cell_type": "markdown",
   "id": "9d2e4da7-a71e-4b29-a67d-6a1cd4828e2a",
   "metadata": {},
   "source": [
    "# 数学操作部分"
   ]
  },
  {
   "cell_type": "markdown",
   "id": "29184c0a-80d3-4bcc-8328-d5efe2c05512",
   "metadata": {},
   "source": [
    "矩阵的转置"
   ]
  },
  {
   "cell_type": "code",
   "execution_count": 28,
   "id": "a74615d4-349f-4963-865d-d4721cc0aa88",
   "metadata": {},
   "outputs": [
    {
     "data": {
      "text/plain": [
       "(tensor([[ 0,  1,  2,  3,  4],\n",
       "         [ 5,  6,  7,  8,  9],\n",
       "         [10, 11, 12, 13, 14],\n",
       "         [15, 16, 17, 18, 19]]),\n",
       " tensor([[ 0,  5, 10, 15],\n",
       "         [ 1,  6, 11, 16],\n",
       "         [ 2,  7, 12, 17],\n",
       "         [ 3,  8, 13, 18],\n",
       "         [ 4,  9, 14, 19]]))"
      ]
     },
     "execution_count": 28,
     "metadata": {},
     "output_type": "execute_result"
    }
   ],
   "source": [
    "x = torch.arange(20).reshape((4, 5))\n",
    "x, x.T"
   ]
  },
  {
   "cell_type": "markdown",
   "id": "c97b1476-31fc-4853-8278-8296abc7138b",
   "metadata": {},
   "source": [
    "两个矩阵的按元素乘法称为Hadamard积（Hadamard product）"
   ]
  },
  {
   "cell_type": "code",
   "execution_count": 10,
   "id": "57bfe1be-6a8e-4639-be97-a83160b72856",
   "metadata": {},
   "outputs": [
    {
     "data": {
      "text/plain": [
       "(tensor([[ 0.,  1.,  2.,  3.,  4.],\n",
       "         [ 5.,  6.,  7.,  8.,  9.],\n",
       "         [10., 11., 12., 13., 14.],\n",
       "         [15., 16., 17., 18., 19.]]),\n",
       " tensor([[ 0.,  1.,  2.,  3.,  4.],\n",
       "         [ 5.,  6.,  7.,  8.,  9.],\n",
       "         [10., 11., 12., 13., 14.],\n",
       "         [15., 16., 17., 18., 19.]]),\n",
       " tensor([[  0.,   1.,   4.,   9.,  16.],\n",
       "         [ 25.,  36.,  49.,  64.,  81.],\n",
       "         [100., 121., 144., 169., 196.],\n",
       "         [225., 256., 289., 324., 361.]]))"
      ]
     },
     "execution_count": 10,
     "metadata": {},
     "output_type": "execute_result"
    }
   ],
   "source": [
    "A = torch.arange(20, dtype=torch.float32).reshape((4, 5))\n",
    "B = A.clone() # 这里的 clone 是深拷贝\n",
    "A, B, A*B"
   ]
  },
  {
   "cell_type": "markdown",
   "id": "78702fde-adf6-48ab-81b0-757701a73135",
   "metadata": {},
   "source": [
    "指定求和汇总张量的轴"
   ]
  },
  {
   "cell_type": "code",
   "execution_count": 26,
   "id": "9eb8fe78-b827-40b8-a187-64c8fb4a704e",
   "metadata": {},
   "outputs": [
    {
     "data": {
      "text/plain": [
       "(tensor([[[ 0.,  1.,  2.,  3.,  4.],\n",
       "          [ 5.,  6.,  7.,  8.,  9.],\n",
       "          [10., 11., 12., 13., 14.],\n",
       "          [15., 16., 17., 18., 19.]],\n",
       " \n",
       "         [[20., 21., 22., 23., 24.],\n",
       "          [25., 26., 27., 28., 29.],\n",
       "          [30., 31., 32., 33., 34.],\n",
       "          [35., 36., 37., 38., 39.]]]),\n",
       " tensor(780.))"
      ]
     },
     "execution_count": 26,
     "metadata": {},
     "output_type": "execute_result"
    }
   ],
   "source": [
    "A = torch.arange(20*2, dtype=torch.float32).reshape((2, 4, 5))\n",
    "A, A.sum()"
   ]
  },
  {
   "cell_type": "code",
   "execution_count": 14,
   "id": "e9f520c3-b582-4998-8537-0f2f2c950989",
   "metadata": {},
   "outputs": [
    {
     "data": {
      "text/plain": [
       "(tensor([[20., 22., 24., 26., 28.],\n",
       "         [30., 32., 34., 36., 38.],\n",
       "         [40., 42., 44., 46., 48.],\n",
       "         [50., 52., 54., 56., 58.]]),\n",
       " torch.Size([4, 5]))"
      ]
     },
     "execution_count": 14,
     "metadata": {},
     "output_type": "execute_result"
    }
   ],
   "source": [
    "A_axis_0 = A.sum(axis=0)\n",
    "A_axis_0, A_axis_0.shape"
   ]
  },
  {
   "cell_type": "code",
   "execution_count": 15,
   "id": "a4a30683-845f-4e6f-b895-ce270520a330",
   "metadata": {},
   "outputs": [
    {
     "data": {
      "text/plain": [
       "(tensor([[ 30.,  34.,  38.,  42.,  46.],\n",
       "         [110., 114., 118., 122., 126.]]),\n",
       " torch.Size([2, 5]))"
      ]
     },
     "execution_count": 15,
     "metadata": {},
     "output_type": "execute_result"
    }
   ],
   "source": [
    "A_axis_1 = A.sum(axis=1)\n",
    "A_axis_1, A_axis_1.shape"
   ]
  },
  {
   "cell_type": "code",
   "execution_count": 16,
   "id": "150b7ee7-7ed1-4d77-bad4-5bebd01cdcf4",
   "metadata": {},
   "outputs": [
    {
     "data": {
      "text/plain": [
       "(tensor([[ 10.,  35.,  60.,  85.],\n",
       "         [110., 135., 160., 185.]]),\n",
       " torch.Size([2, 4]))"
      ]
     },
     "execution_count": 16,
     "metadata": {},
     "output_type": "execute_result"
    }
   ],
   "source": [
    "A_axis_2 = A.sum(axis=2)\n",
    "A_axis_2, A_axis_2.shape"
   ]
  },
  {
   "cell_type": "markdown",
   "id": "fca51629-2f2a-4bb5-9cd8-955d1f8e88c9",
   "metadata": {},
   "source": [
    "求和与求均值"
   ]
  },
  {
   "cell_type": "code",
   "execution_count": 17,
   "id": "63514528-4050-494f-9665-bf9ffbf2b397",
   "metadata": {},
   "outputs": [
    {
     "data": {
      "text/plain": [
       "(tensor(19.5000), tensor(19.5000))"
      ]
     },
     "execution_count": 17,
     "metadata": {},
     "output_type": "execute_result"
    }
   ],
   "source": [
    "A.mean(), A.sum() / A.numel()"
   ]
  },
  {
   "cell_type": "code",
   "execution_count": 19,
   "id": "b9846164-62fe-4a17-9475-9fd5e16bd4cb",
   "metadata": {},
   "outputs": [
    {
     "data": {
      "text/plain": [
       "(tensor([[10., 11., 12., 13., 14.],\n",
       "         [15., 16., 17., 18., 19.],\n",
       "         [20., 21., 22., 23., 24.],\n",
       "         [25., 26., 27., 28., 29.]]),\n",
       " tensor([[10., 11., 12., 13., 14.],\n",
       "         [15., 16., 17., 18., 19.],\n",
       "         [20., 21., 22., 23., 24.],\n",
       "         [25., 26., 27., 28., 29.]]))"
      ]
     },
     "execution_count": 19,
     "metadata": {},
     "output_type": "execute_result"
    }
   ],
   "source": [
    "A.mean(axis=0), A.sum(axis=0) / A.shape[0]"
   ]
  },
  {
   "cell_type": "markdown",
   "id": "2a660409-6977-42dd-a2d4-7ef2c5350b12",
   "metadata": {
    "jp-MarkdownHeadingCollapsed": true
   },
   "source": [
    "### 计算总和、均值时保持维数不变"
   ]
  },
  {
   "cell_type": "code",
   "execution_count": 21,
   "id": "54073a2a-1281-4f41-8d84-17ee449d8e31",
   "metadata": {},
   "outputs": [
    {
     "data": {
      "text/plain": [
       "(tensor([[[20., 22., 24., 26., 28.],\n",
       "          [30., 32., 34., 36., 38.],\n",
       "          [40., 42., 44., 46., 48.],\n",
       "          [50., 52., 54., 56., 58.]]]),\n",
       " torch.Size([1, 4, 5]))"
      ]
     },
     "execution_count": 21,
     "metadata": {},
     "output_type": "execute_result"
    }
   ],
   "source": [
    "sum_A = A.sum(axis=0, keepdims=True)\n",
    "sum_A, sum_A.shape"
   ]
  },
  {
   "cell_type": "markdown",
   "id": "8030ed5c-07e1-46d7-97ed-b119e6e4ceca",
   "metadata": {},
   "source": [
    "通过广播机制将 A 除以 sum_A"
   ]
  },
  {
   "cell_type": "code",
   "execution_count": 22,
   "id": "8158e028-0588-43c3-ae1d-b12f2ec20906",
   "metadata": {},
   "outputs": [
    {
     "data": {
      "text/plain": [
       "tensor([[[0.0000, 0.0455, 0.0833, 0.1154, 0.1429],\n",
       "         [0.1667, 0.1875, 0.2059, 0.2222, 0.2368],\n",
       "         [0.2500, 0.2619, 0.2727, 0.2826, 0.2917],\n",
       "         [0.3000, 0.3077, 0.3148, 0.3214, 0.3276]],\n",
       "\n",
       "        [[1.0000, 0.9545, 0.9167, 0.8846, 0.8571],\n",
       "         [0.8333, 0.8125, 0.7941, 0.7778, 0.7632],\n",
       "         [0.7500, 0.7381, 0.7273, 0.7174, 0.7083],\n",
       "         [0.7000, 0.6923, 0.6852, 0.6786, 0.6724]]])"
      ]
     },
     "execution_count": 22,
     "metadata": {},
     "output_type": "execute_result"
    }
   ],
   "source": [
    "A / sum_A"
   ]
  },
  {
   "cell_type": "code",
   "execution_count": 27,
   "id": "690abfe0-ce7b-432c-9016-64b28d6e24ec",
   "metadata": {},
   "outputs": [
    {
     "data": {
      "text/plain": [
       "tensor([[[ 0.,  1.,  2.,  3.,  4.],\n",
       "         [ 5.,  6.,  7.,  8.,  9.],\n",
       "         [10., 11., 12., 13., 14.],\n",
       "         [15., 16., 17., 18., 19.]],\n",
       "\n",
       "        [[20., 22., 24., 26., 28.],\n",
       "         [30., 32., 34., 36., 38.],\n",
       "         [40., 42., 44., 46., 48.],\n",
       "         [50., 52., 54., 56., 58.]]])"
      ]
     },
     "execution_count": 27,
     "metadata": {},
     "output_type": "execute_result"
    }
   ],
   "source": [
    "A.cumsum(axis=0)"
   ]
  },
  {
   "cell_type": "code",
   "execution_count": 23,
   "id": "2c2dd932-a1d6-44d9-a6a4-ca2041dfa54a",
   "metadata": {},
   "outputs": [
    {
     "data": {
      "text/plain": [
       "tensor([[ 0,  1,  2,  3,  4],\n",
       "        [ 5,  6,  7,  8,  9],\n",
       "        [10, 11, 12, 13, 14],\n",
       "        [15, 16, 17, 18, 19]])"
      ]
     },
     "execution_count": 23,
     "metadata": {},
     "output_type": "execute_result"
    }
   ],
   "source": [
    "A = torch.arange(20).reshape((4, 5))\n",
    "A"
   ]
  },
  {
   "cell_type": "markdown",
   "id": "cc801877-4512-47bc-a5d0-31394c147e24",
   "metadata": {},
   "source": [
    "累加求和，A.cumsum(axis=0) 计算数组 A 沿 axis=0 方向（从上到下，按行） 的累积和。结果是一个与 A 形状相同的数组，其中每个元素都是其上方所有同行元素（包括它自己）的原始值之和。"
   ]
  },
  {
   "cell_type": "code",
   "execution_count": 24,
   "id": "9126a93d-e93b-4978-909b-10c835d7e111",
   "metadata": {},
   "outputs": [
    {
     "data": {
      "text/plain": [
       "tensor([[ 0,  1,  2,  3,  4],\n",
       "        [ 5,  7,  9, 11, 13],\n",
       "        [15, 18, 21, 24, 27],\n",
       "        [30, 34, 38, 42, 46]])"
      ]
     },
     "execution_count": 24,
     "metadata": {},
     "output_type": "execute_result"
    }
   ],
   "source": [
    "A.cumsum(axis=0)"
   ]
  },
  {
   "cell_type": "markdown",
   "id": "67560f20-fcd0-454d-b6f2-cf4492fbf0c0",
   "metadata": {},
   "source": [
    "点积：相同位置元素相乘后求和"
   ]
  },
  {
   "cell_type": "code",
   "execution_count": 32,
   "id": "d5383dd4-4c1c-4adc-8cae-5620f0097b66",
   "metadata": {},
   "outputs": [
    {
     "data": {
      "text/plain": [
       "(tensor([1., 1., 1., 1.]), tensor([0., 1., 2., 3.]), tensor(6.))"
      ]
     },
     "execution_count": 32,
     "metadata": {},
     "output_type": "execute_result"
    }
   ],
   "source": [
    "x = torch.ones(4, dtype=torch.float32)\n",
    "y = torch.arange(4, dtype=torch.float32)\n",
    "x,y, torch.dot(x, y)"
   ]
  },
  {
   "cell_type": "markdown",
   "id": "b7d4ab89-459f-4c3b-b80b-8f9fdc55c6bf",
   "metadata": {},
   "source": [
    "也可以先按元素乘，再求和"
   ]
  },
  {
   "cell_type": "code",
   "execution_count": 33,
   "id": "cfdd60a3-39b5-4f6a-aff3-cb372548926d",
   "metadata": {},
   "outputs": [
    {
     "data": {
      "text/plain": [
       "tensor(6.)"
      ]
     },
     "execution_count": 33,
     "metadata": {},
     "output_type": "execute_result"
    }
   ],
   "source": [
    "torch.sum(x * y)"
   ]
  },
  {
   "cell_type": "markdown",
   "id": "c25002da-aec8-49b1-9346-5dcc38147864",
   "metadata": {},
   "source": [
    "矩阵$A_{m * n}$，`n`维行向量`x`，矩阵向量积`Ax`是一个长度为`m`的列向量"
   ]
  },
  {
   "cell_type": "code",
   "execution_count": 36,
   "id": "110c532d-83c8-4595-9f60-3e3adc07afef",
   "metadata": {},
   "outputs": [
    {
     "data": {
      "text/plain": [
       "(torch.Size([4, 5]), torch.Size([5]), tensor([ 30,  80, 130, 180]))"
      ]
     },
     "execution_count": 36,
     "metadata": {},
     "output_type": "execute_result"
    }
   ],
   "source": [
    "A = torch.arange(20).reshape((4, 5))\n",
    "x = torch.arange(5)\n",
    "A.shape, x.shape, torch.mv(A, x) # mv 就是 matrix-vector product"
   ]
  },
  {
   "cell_type": "markdown",
   "id": "57727e37-dda2-4cf8-82f1-ab23a2192342",
   "metadata": {},
   "source": [
    "矩阵-矩阵乘法，matrix-matrix multiplication"
   ]
  },
  {
   "cell_type": "code",
   "execution_count": 37,
   "id": "24c56046-2e80-4b70-9116-3df927d06cff",
   "metadata": {},
   "outputs": [
    {
     "data": {
      "text/plain": [
       "(torch.Size([4, 5]),\n",
       " torch.Size([5, 3]),\n",
       " tensor([[ 90, 100, 110],\n",
       "         [240, 275, 310],\n",
       "         [390, 450, 510],\n",
       "         [540, 625, 710]]))"
      ]
     },
     "execution_count": 37,
     "metadata": {},
     "output_type": "execute_result"
    }
   ],
   "source": [
    "B = torch.arange(15).reshape((5, 3))\n",
    "A.shape, B.shape, torch.mm(A, B)"
   ]
  },
  {
   "cell_type": "markdown",
   "id": "18a29be0-5f7f-484c-9d33-34b52772f0ff",
   "metadata": {
    "jp-MarkdownHeadingCollapsed": true
   },
   "source": [
    "### 范数"
   ]
  },
  {
   "cell_type": "markdown",
   "id": "c2dbbee2-f700-4d24-97b0-d983683a6bf1",
   "metadata": {},
   "source": [
    "$L_{2}$范数，类似于欧几里得距离"
   ]
  },
  {
   "cell_type": "code",
   "execution_count": 38,
   "id": "eb9d719b-4247-4e0e-9462-72a6831a58a2",
   "metadata": {},
   "outputs": [
    {
     "data": {
      "text/plain": [
       "tensor(5.)"
      ]
     },
     "execution_count": 38,
     "metadata": {},
     "output_type": "execute_result"
    }
   ],
   "source": [
    "u = torch.tensor([3.0, -4.0])\n",
    "torch.norm(u)"
   ]
  },
  {
   "cell_type": "markdown",
   "id": "a0360918-f231-4821-ae7b-eb301fb3e032",
   "metadata": {},
   "source": [
    "$L_{1}$范数，为向量元素的绝对值之和"
   ]
  },
  {
   "cell_type": "code",
   "execution_count": 39,
   "id": "016f9579-e350-4a57-97c6-9f8b88c1a5c5",
   "metadata": {},
   "outputs": [
    {
     "data": {
      "text/plain": [
       "tensor(7.)"
      ]
     },
     "execution_count": 39,
     "metadata": {},
     "output_type": "execute_result"
    }
   ],
   "source": [
    "torch.abs(u).sum()"
   ]
  },
  {
   "cell_type": "markdown",
   "id": "1dd61625-11b6-48a4-a1e2-e2026d9baba0",
   "metadata": {},
   "source": [
    "矩阵的Frobenius范数（Frobenius norm）是矩阵元素平方和的平方根"
   ]
  },
  {
   "cell_type": "code",
   "execution_count": 40,
   "id": "01b386c2-8c42-4a62-84f9-bc8371bb73c3",
   "metadata": {},
   "outputs": [
    {
     "data": {
      "text/plain": [
       "tensor(6.)"
      ]
     },
     "execution_count": 40,
     "metadata": {},
     "output_type": "execute_result"
    }
   ],
   "source": [
    "torch.norm(torch.ones((4, 9)))"
   ]
  },
  {
   "cell_type": "markdown",
   "id": "780aa917-4dd6-4958-ab42-119732a3e8da",
   "metadata": {
    "jp-MarkdownHeadingCollapsed": true
   },
   "source": [
    "### 微积分"
   ]
  },
  {
   "cell_type": "markdown",
   "id": "d2a47837-baf2-4243-9b55-d38ebf71000b",
   "metadata": {},
   "source": [
    "- x为列向量，y为标量，则y关于x的导数是一个行向量\n",
    "- y为列向量，x为标量，则y关于x的导数是一个列向量\n",
    "- y为列向量，x为列量，则y关于x的导数是一个矩阵\n",
    "- 分子布局"
   ]
  },
  {
   "cell_type": "markdown",
   "id": "95462c10-1e32-47a6-8158-a6586ac6c0ed",
   "metadata": {},
   "source": [
    "![](./assets/向量求导.png)"
   ]
  },
  {
   "cell_type": "markdown",
   "id": "5772fda1-8650-412e-ac03-0b9e13773268",
   "metadata": {},
   "source": [
    "### 自动求导"
   ]
  },
  {
   "cell_type": "markdown",
   "id": "f0266ae2-cab3-4109-bb1f-878fdc661395",
   "metadata": {},
   "source": [
    "对函数$y=2x^Tx$关于列向量x求导"
   ]
  },
  {
   "cell_type": "code",
   "execution_count": 11,
   "id": "b3c7d2a1-d490-46bd-8708-1743f89546c4",
   "metadata": {},
   "outputs": [
    {
     "data": {
      "text/plain": [
       "tensor([0., 1., 2., 3.])"
      ]
     },
     "execution_count": 11,
     "metadata": {},
     "output_type": "execute_result"
    }
   ],
   "source": [
    "import torch\n",
    "\n",
    "x = torch.arange(4.0)\n",
    "x"
   ]
  },
  {
   "cell_type": "markdown",
   "id": "9e3b602a-c7f6-4e04-9e11-8ccfee8c4aac",
   "metadata": {},
   "source": [
    "存储梯度"
   ]
  },
  {
   "cell_type": "code",
   "execution_count": 12,
   "id": "963e1352-713b-4903-9eba-1f3e0ac81d43",
   "metadata": {},
   "outputs": [],
   "source": [
    "x.requires_grad_(True) # 等价于x=torch.arange(4.0,requires_grad=True)\n",
    "x.grad"
   ]
  },
  {
   "cell_type": "code",
   "execution_count": 13,
   "id": "048b7f7b-757a-43b3-99df-901e175cb7bd",
   "metadata": {},
   "outputs": [
    {
     "data": {
      "text/plain": [
       "tensor(28., grad_fn=<MulBackward0>)"
      ]
     },
     "execution_count": 13,
     "metadata": {},
     "output_type": "execute_result"
    }
   ],
   "source": [
    "y = 2 * torch.dot(x, x)\n",
    "y"
   ]
  },
  {
   "cell_type": "markdown",
   "id": "ce2f8de7-d638-40ac-88e2-d9de2bac1673",
   "metadata": {},
   "source": [
    "通过调用反向传播函数来自动计算`y`关于`x`每个分量的梯度"
   ]
  },
  {
   "cell_type": "code",
   "execution_count": 14,
   "id": "fd8cd870-8c4c-4361-b569-b7f7505ecc13",
   "metadata": {},
   "outputs": [
    {
     "data": {
      "text/plain": [
       "tensor([ 0.,  4.,  8., 12.])"
      ]
     },
     "execution_count": 14,
     "metadata": {},
     "output_type": "execute_result"
    }
   ],
   "source": [
    "y.backward()\n",
    "x.grad"
   ]
  },
  {
   "cell_type": "code",
   "execution_count": 15,
   "id": "5fa20878-96bb-4bc1-a07a-b2dcbbae96d4",
   "metadata": {},
   "outputs": [
    {
     "data": {
      "text/plain": [
       "tensor([True, True, True, True])"
      ]
     },
     "execution_count": 15,
     "metadata": {},
     "output_type": "execute_result"
    }
   ],
   "source": [
    "x.grad == 4 * x"
   ]
  },
  {
   "cell_type": "markdown",
   "id": "8348bad8-e16b-4d61-ae75-753e2bdfee2f",
   "metadata": {},
   "source": [
    "现在计算x的另一个函数"
   ]
  },
  {
   "cell_type": "code",
   "execution_count": 17,
   "id": "de00a604-81b8-4b37-8644-c0a407fb429d",
   "metadata": {},
   "outputs": [
    {
     "data": {
      "text/plain": [
       "tensor([1., 1., 1., 1.])"
      ]
     },
     "execution_count": 17,
     "metadata": {},
     "output_type": "execute_result"
    }
   ],
   "source": [
    "# 在默认情况下，PyTorch会累积梯度，我们需要清除之前的值\n",
    "x.grad.zero_()\n",
    "y = x.sum()\n",
    "y.backward()\n",
    "x.grad"
   ]
  },
  {
   "cell_type": "markdown",
   "id": "3100091c-0722-410e-ac83-ecd84ac4ffcf",
   "metadata": {},
   "source": [
    "调用向量的反向计算时，我们通常会试图计算一批训练样本中每个组成部分的损失函数的导数。 \n",
    "这里，我们的目的不是计算微分矩阵，而是单独计算批量中每个样本的偏导数之和。"
   ]
  },
  {
   "cell_type": "code",
   "execution_count": 19,
   "id": "7d853162-3bfb-441d-b277-74ed6c0db961",
   "metadata": {},
   "outputs": [
    {
     "data": {
      "text/plain": [
       "tensor([0., 2., 4., 6.])"
      ]
     },
     "execution_count": 19,
     "metadata": {},
     "output_type": "execute_result"
    }
   ],
   "source": [
    "# 对非标量调用backward需要传入一个gradient参数，该参数指定微分函数关于self的梯度。\n",
    "# 本例只想求偏导数的和，所以传递一个1的梯度是合适的\n",
    "x.grad.zero_()\n",
    "y = x * x\n",
    "y.sum().backward() # 等价于y.backward(torch.ones(len(x)))\n",
    "x.grad"
   ]
  },
  {
   "cell_type": "markdown",
   "id": "9111d135-2b4f-4339-9584-510d012291ab",
   "metadata": {},
   "source": [
    "注意，当调用 y.backward(gradient_vector) 时，PyTorch计算的是：gradient_vector 与 y 的雅可比矩阵的乘积，再对 x 求导。"
   ]
  },
  {
   "cell_type": "markdown",
   "id": "e8ca466f-4178-4294-ba93-d0a46c889ff7",
   "metadata": {},
   "source": [
    "有时，我们希望将某些计算移动到记录的计算图之外。 例如，假设y是作为x的函数计算的，而z则是作为y和x的函数计算的。 想象一下，我们想计算z关于x的梯度，但由于某种原因，希望将y视为一个常数， 并且只考虑到x在y被计算后发挥的作用。\n",
    "\n",
    "这里可以分离y来返回一个新变量u，该变量与y具有相同的值， 但丢弃计算图中如何计算y的任何信息。 换句话说，梯度不会向后流经u到x。 因此，下面的反向传播函数计算z=u*x关于x的偏导数，同时将u作为常数处理， 而不是z=x\\*x\\*x关于x的偏导数。"
   ]
  },
  {
   "cell_type": "code",
   "execution_count": 25,
   "id": "a1549f46-d0e6-4348-9b72-88b5d7bbb1db",
   "metadata": {},
   "outputs": [
    {
     "data": {
      "text/plain": [
       "tensor([True, True, True, True])"
      ]
     },
     "execution_count": 25,
     "metadata": {},
     "output_type": "execute_result"
    }
   ],
   "source": [
    "x.grad.zero_()\n",
    "y = x * x\n",
    "u = y.detach()\n",
    "z = u * x\n",
    "\n",
    "z.sum().backward()\n",
    "x.grad == u"
   ]
  },
  {
   "cell_type": "markdown",
   "id": "8820b014-35eb-4646-ac12-e0349aa63178",
   "metadata": {},
   "source": [
    "关于`detach()`函数，其作用是：从当前计算图中分离出一个张量，返回一个新的张量，这个新张量与原始张量共享数据存储，但不再具有梯度计算的历史记录（requires_grad=False），并且与之前的计算图完全断开连接。"
   ]
  },
  {
   "cell_type": "code",
   "execution_count": 26,
   "id": "ef889d4a-6776-4c52-892e-c7d91c3a4373",
   "metadata": {},
   "outputs": [
    {
     "data": {
      "text/plain": [
       "tensor([True, True, True, True])"
      ]
     },
     "execution_count": 26,
     "metadata": {},
     "output_type": "execute_result"
    }
   ],
   "source": [
    "x.grad.zero_()\n",
    "y.sum().backward()\n",
    "x.grad == 2 * x"
   ]
  },
  {
   "cell_type": "markdown",
   "id": "743052fa-1080-43f5-ac8d-eb63ab2c2b69",
   "metadata": {},
   "source": [
    "#### Python控制流的梯度计算"
   ]
  },
  {
   "cell_type": "markdown",
   "id": "05365ef9-a1ba-4d8e-8d6a-f9f94b52f49a",
   "metadata": {},
   "source": [
    "构建函数的计算图需要通过Python控制流（例如，条件、循环或任意函数调用），我们仍然可以计算得到的变量的梯度"
   ]
  },
  {
   "cell_type": "code",
   "execution_count": 29,
   "id": "4ba2bf01-bff8-4e46-bc44-19191824f378",
   "metadata": {},
   "outputs": [],
   "source": [
    "def f(a):\n",
    "    b = a * 2\n",
    "    while b.norm() < 1000:\n",
    "        b = b * 2\n",
    "    if b.sum() > 0:\n",
    "        c = b\n",
    "    else:\n",
    "        c = 100 * b\n",
    "    return c"
   ]
  },
  {
   "cell_type": "code",
   "execution_count": 31,
   "id": "28d2213f-bb12-4c8d-9820-9baa65fa6525",
   "metadata": {},
   "outputs": [
    {
     "data": {
      "text/plain": [
       "tensor(True)"
      ]
     },
     "execution_count": 31,
     "metadata": {},
     "output_type": "execute_result"
    }
   ],
   "source": [
    "a = torch.randn(size=(), requires_grad=True)\n",
    "d = f(a)\n",
    "d.backward()\n",
    "a.grad == d / a"
   ]
  },
  {
   "cell_type": "code",
   "execution_count": null,
   "id": "7e48e759-070e-4037-b935-c69a909e3eaf",
   "metadata": {},
   "outputs": [],
   "source": []
  }
 ],
 "metadata": {
  "kernelspec": {
   "display_name": "Python 3 (ipykernel)",
   "language": "python",
   "name": "python3"
  },
  "language_info": {
   "codemirror_mode": {
    "name": "ipython",
    "version": 3
   },
   "file_extension": ".py",
   "mimetype": "text/x-python",
   "name": "python",
   "nbconvert_exporter": "python",
   "pygments_lexer": "ipython3",
   "version": "3.13.2"
  }
 },
 "nbformat": 4,
 "nbformat_minor": 5
}
