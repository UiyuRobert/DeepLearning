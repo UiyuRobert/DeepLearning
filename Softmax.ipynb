{
 "cells": [
  {
   "cell_type": "markdown",
   "id": "80279c38-5918-4b12-a60c-29f351c3763a",
   "metadata": {},
   "source": [
    "# 数据加载"
   ]
  },
  {
   "cell_type": "code",
   "execution_count": 2,
   "id": "e736c87b-fe16-40c9-8b1d-55b504c50fda",
   "metadata": {},
   "outputs": [],
   "source": [
    "import torchvision\n",
    "import torch\n",
    "from torch.utils import data\n",
    "from torchvision import transforms"
   ]
  },
  {
   "cell_type": "markdown",
   "id": "13c333c6-2e20-4377-bae8-e622b273fee4",
   "metadata": {},
   "source": [
    "通过框架的内置函数将Fashion-MNIST数据集下载并读入到内存中"
   ]
  },
  {
   "cell_type": "code",
   "execution_count": 3,
   "id": "d54f3f43-6a3e-46d1-beba-d33b63555fb7",
   "metadata": {},
   "outputs": [],
   "source": [
    "trans = transforms.ToTensor()\n",
    "mnist_train = torchvision.datasets.FashionMNIST(\n",
    "    root='./data', train=True, transform=trans, download=True)\n",
    "mnist_test = torchvision.datasets.FashionMNIST(\n",
    "    root='./data', train=False, transform=trans, download=True)"
   ]
  },
  {
   "cell_type": "code",
   "execution_count": 4,
   "id": "1c3a8077-512b-4f53-9d2b-b57ff7ce87c5",
   "metadata": {},
   "outputs": [
    {
     "data": {
      "text/plain": [
       "(60000, 10000)"
      ]
     },
     "execution_count": 4,
     "metadata": {},
     "output_type": "execute_result"
    }
   ],
   "source": [
    "len(mnist_train), len(mnist_test)"
   ]
  },
  {
   "cell_type": "code",
   "execution_count": 5,
   "id": "c4d0fd5f-6e6a-49c0-b35b-23ca4ee0cdd3",
   "metadata": {},
   "outputs": [
    {
     "data": {
      "text/plain": [
       "torch.Size([1, 28, 28])"
      ]
     },
     "execution_count": 5,
     "metadata": {},
     "output_type": "execute_result"
    }
   ],
   "source": [
    "mnist_train[0][0].shape\n",
    "# 第一个 0 -> 样本索引\n",
    "# 第二个 0 -> 图像数据，第二个 0 的位置变为 1 则是 label"
   ]
  },
  {
   "cell_type": "code",
   "execution_count": 6,
   "id": "431197e7-10ee-447a-9149-83352bbf9148",
   "metadata": {},
   "outputs": [
    {
     "data": {
      "text/plain": [
       "9"
      ]
     },
     "execution_count": 6,
     "metadata": {},
     "output_type": "execute_result"
    }
   ],
   "source": [
    "mnist_train[0][1]"
   ]
  },
  {
   "cell_type": "code",
   "execution_count": 7,
   "id": "1fcce64f-37d3-45bf-91fa-65ea929f75d9",
   "metadata": {},
   "outputs": [],
   "source": [
    "def get_fashion_mnist_labels(labels):\n",
    "    \"\"\" 返回fashion-MNIST图像的文本标签 \"\"\"\n",
    "    text_labels = ['t-shirt', 'trouser', 'pullover', 'dress', 'coat',\n",
    "                   'sandal', 'shirt', 'sneaker', 'bag', 'ankle boot']\n",
    "    return [text_labels[int(i)] for i in labels]\n",
    "\n",
    "import matplotlib.pyplot as plt\n",
    "import torch\n",
    "\n",
    "def show_images(imgs, num_rows, num_cols, titles=None, scale=1.5):\n",
    "    \"\"\"绘制图像列表\"\"\"\n",
    "    figsize = (num_cols * scale, num_rows * scale)\n",
    "    # 创建子图\n",
    "    fig, axes = plt.subplots(num_rows, num_cols, figsize=figsize)\n",
    "    \n",
    "    # 将axes数组展平，便于迭代\n",
    "    axes = axes.flatten()\n",
    "    \n",
    "    for i, (ax, img) in enumerate(zip(axes, imgs)):\n",
    "        if torch.is_tensor(img):\n",
    "            # 图片张量，转换为numpy数组\n",
    "            ax.imshow(img.numpy())\n",
    "        else:\n",
    "            # PIL图片或其他数组格式\n",
    "            ax.imshow(img)\n",
    "        \n",
    "        # 隐藏坐标轴\n",
    "        ax.set_xticks([])\n",
    "        ax.set_yticks([])\n",
    "        \n",
    "        # 设置标题（如果提供）\n",
    "        if titles is not None:\n",
    "            ax.set_title(titles[i])\n",
    "    \n",
    "    # 调整子图间距\n",
    "    plt.tight_layout()\n",
    "    return axes"
   ]
  },
  {
   "cell_type": "markdown",
   "id": "aa15dc59-ebfc-4e06-9418-497fff8de60c",
   "metadata": {},
   "source": [
    "几个样本的图像以及对应的标签"
   ]
  },
  {
   "cell_type": "code",
   "execution_count": 8,
   "id": "94c150ac-2fe9-4db0-938c-7b785c4207c4",
   "metadata": {},
   "outputs": [
    {
     "data": {
      "text/plain": [
       "array([<Axes: title={'center': 'ankle boot'}>,\n",
       "       <Axes: title={'center': 't-shirt'}>,\n",
       "       <Axes: title={'center': 't-shirt'}>,\n",
       "       <Axes: title={'center': 'dress'}>,\n",
       "       <Axes: title={'center': 't-shirt'}>,\n",
       "       <Axes: title={'center': 'pullover'}>,\n",
       "       <Axes: title={'center': 'sneaker'}>,\n",
       "       <Axes: title={'center': 'pullover'}>,\n",
       "       <Axes: title={'center': 'sandal'}>,\n",
       "       <Axes: title={'center': 'sandal'}>,\n",
       "       <Axes: title={'center': 't-shirt'}>,\n",
       "       <Axes: title={'center': 'ankle boot'}>,\n",
       "       <Axes: title={'center': 'sandal'}>,\n",
       "       <Axes: title={'center': 'sandal'}>,\n",
       "       <Axes: title={'center': 'sneaker'}>,\n",
       "       <Axes: title={'center': 'ankle boot'}>,\n",
       "       <Axes: title={'center': 'trouser'}>,\n",
       "       <Axes: title={'center': 't-shirt'}>], dtype=object)"
      ]
     },
     "execution_count": 8,
     "metadata": {},
     "output_type": "execute_result"
    },
    {
     "data": {
      "image/png": "[encoded data removed]",
      "text/plain": [
       "<Figure size 1350x300 with 18 Axes>"
      ]
     },
     "metadata": {},
     "output_type": "display_data"
    }
   ],
   "source": [
    "X, y = next(iter(data.DataLoader(mnist_train, batch_size=18)))\n",
    "show_images(X.reshape(18, 28, 28), 2, 9, titles=get_fashion_mnist_labels(y))"
   ]
  },
  {
   "cell_type": "code",
   "execution_count": 9,
   "id": "a4844a66-4a02-4708-b63d-be2bc872b618",
   "metadata": {},
   "outputs": [
    {
     "name": "stdout",
     "output_type": "stream",
     "text": [
      "用时 0.44 sec\n"
     ]
    }
   ],
   "source": [
    "batch_size = 256\n",
    "\n",
    "def get_dataloader_workers():\n",
    "    return 4\n",
    "\n",
    "train_iter = data.DataLoader(mnist_train, batch_size=batch_size, \n",
    "                             shuffle=True, num_workers=get_dataloader_workers())\n",
    "\n",
    "import time\n",
    "\n",
    "start_time = time.time()\n",
    "\n",
    "for X, y in train_iter:\n",
    "    continue\n",
    "\n",
    "end_time = time.time()\n",
    "delta = end_time - start_time\n",
    "print(f'用时{delta : .2f} sec')"
   ]
  },
  {
   "cell_type": "markdown",
   "id": "f75409fb-df22-4f5e-84a2-ed566bc26700",
   "metadata": {},
   "source": [
    "整合所有组件，用于获取和读取Fashion-MNIST数据集。\n",
    "这个函数返回训练集和验证集的数据迭代器。\n",
    "此外，这个函数还接受一个可选参数resize，用来将图像大小调整为另一种形状。"
   ]
  },
  {
   "cell_type": "code",
   "execution_count": 10,
   "id": "859a7497-ba04-47c1-8d7f-148723ed0e42",
   "metadata": {},
   "outputs": [],
   "source": [
    "def load_data_fashion_mnist(batch_size, resize=None):\n",
    "    \"\"\"下载Fashion-MNIST数据集，然后将其加载到内存中\"\"\"\n",
    "    trans = [transforms.ToTensor()]\n",
    "    if resize:\n",
    "        trans.insert(0, transforms.Resize(resize))\n",
    "    trans = transforms.Compose(trans)\n",
    "\n",
    "    mnist_train = torchvision.datasets.FashionMNIST(root='./data', train=True, \n",
    "                                                   transform=trans, download=True)\n",
    "    mnist_test = torchvision.datasets.FashionMNIST(root='./data', train=False, \n",
    "                                                   transform=trans, download=True)\n",
    "\n",
    "    return (data.DataLoader(mnist_train, batch_size=batch_size, shuffle=True, \n",
    "                          num_workers=get_dataloader_workers()), \n",
    "            data.DataLoader(mnist_test, batch_size=batch_size, shuffle=False, \n",
    "                          num_workers=get_dataloader_workers()))"
   ]
  },
  {
   "cell_type": "markdown",
   "id": "0a070fb4-081b-423f-b168-2a7c1df4237f",
   "metadata": {},
   "source": [
    "指定resize参数来测试load_data_fashion_mnist函数的图像大小调整功能"
   ]
  },
  {
   "cell_type": "code",
   "execution_count": 11,
   "id": "f6e52ad3-4a17-49d4-9a5e-100e83610225",
   "metadata": {},
   "outputs": [
    {
     "name": "stdout",
     "output_type": "stream",
     "text": [
      "torch.Size([32, 1, 64, 64]) torch.float32 torch.Size([32]) torch.int64\n"
     ]
    }
   ],
   "source": [
    "train_iter, test_iter = load_data_fashion_mnist(32, resize=64)\n",
    "for X, y in train_iter:\n",
    "    print(X.shape, X.dtype, y.shape, y.dtype)\n",
    "    break"
   ]
  },
  {
   "cell_type": "markdown",
   "id": "35d1f8c8-b798-4815-8e5e-a37f567f961c",
   "metadata": {},
   "source": [
    "# Softmax"
   ]
  },
  {
   "cell_type": "code",
   "execution_count": 12,
   "id": "05c4bea7-f2d9-4c32-8303-e32c841f2b96",
   "metadata": {},
   "outputs": [],
   "source": [
    "batch_size = 256\n",
    "train_iter, test_iter = load_data_fashion_mnist(batch_size)"
   ]
  },
  {
   "cell_type": "markdown",
   "id": "0105a94e-97fe-41eb-86a4-47bd743b7abd",
   "metadata": {},
   "source": [
    "原数据是1通道，28*28的图片，现在将其拉平成为784维向量。输出维度是10,因为有10类"
   ]
  },
  {
   "cell_type": "code",
   "execution_count": 13,
   "id": "6e85b2e0-4eae-4efb-b5c9-83e5af4f508e",
   "metadata": {},
   "outputs": [],
   "source": [
    "num_inputs = 784\n",
    "num_outputs = 10\n",
    "\n",
    "W = torch.normal(0, 0.01, size=(num_inputs, num_outputs), requires_grad=True)\n",
    "b = torch.zeros(num_outputs, requires_grad=True)"
   ]
  },
  {
   "cell_type": "markdown",
   "id": "aeb4ebf8-00b0-4df2-b3d9-e0811ff52d78",
   "metadata": {},
   "source": [
    "实现Softmax(X)，X为矩阵"
   ]
  },
  {
   "cell_type": "markdown",
   "id": "49c0ae55-0962-42f5-ad2e-715fb1883490",
   "metadata": {},
   "source": [
    "$$\n",
    "Softmax(X)_{ij} = \\frac{exp(X_{ij})}{\\sum_{k}{exp(X_{ik})}}\n",
    "$$"
   ]
  },
  {
   "cell_type": "code",
   "execution_count": 14,
   "id": "fda829b0-207d-45d1-ad71-26b9a1774a27",
   "metadata": {},
   "outputs": [
    {
     "data": {
      "text/plain": [
       "(tensor([[0.2016, 0.2024, 0.2002, 0.2003, 0.1956],\n",
       "         [0.2012, 0.2024, 0.1997, 0.2000, 0.1967]]),\n",
       " tensor([1., 1.]))"
      ]
     },
     "execution_count": 14,
     "metadata": {},
     "output_type": "execute_result"
    }
   ],
   "source": [
    "def softmax(X):\n",
    "    X_exp = torch.exp(X)\n",
    "    partition = X_exp.sum(axis=1, keepdim=True)\n",
    "    return X_exp / partition  # 这里应用了广播机制\n",
    "\n",
    "X = torch.normal(0, 0.01, size=(2, 5))\n",
    "X_prob = softmax(X)\n",
    "X_prob, X_prob.sum(1)"
   ]
  },
  {
   "cell_type": "markdown",
   "id": "c88302a1-87a0-47b6-a2fc-fcd9b62495e0",
   "metadata": {},
   "source": [
    "### 实现Softmax模型"
   ]
  },
  {
   "cell_type": "code",
   "execution_count": 15,
   "id": "db5bb65e-2a52-43ab-b66a-206e85945c9c",
   "metadata": {},
   "outputs": [],
   "source": [
    "def net(X):\n",
    "    return softmax(torch.matmul(X.reshape(-1, W.shape[0]), W) + b) # 注意要让 X 的列数等于 W 的行数"
   ]
  },
  {
   "cell_type": "markdown",
   "id": "cfe78268-d297-4aac-9a31-1931179c91ae",
   "metadata": {},
   "source": [
    "### 实现交叉熵损失函数\n",
    "- 交叉熵损失只关心模型对正确类别的预测概率"
   ]
  },
  {
   "cell_type": "code",
   "execution_count": 16,
   "id": "458ea6c9-5c83-425f-9ac0-fa8aecd9f560",
   "metadata": {},
   "outputs": [
    {
     "data": {
      "text/plain": [
       "tensor([0.1000, 0.5000])"
      ]
     },
     "execution_count": 16,
     "metadata": {},
     "output_type": "execute_result"
    }
   ],
   "source": [
    "# 高级索引\n",
    "y = torch.tensor([0, 2])\n",
    "y_hat = torch.tensor([[0.1, 0.3, 0.6], [0.3, 0.2, 0.5]])\n",
    "y_hat[[0, 1], y]"
   ]
  },
  {
   "cell_type": "code",
   "execution_count": 17,
   "id": "b81cf498-d885-4247-96fb-bbac4acb4fd6",
   "metadata": {},
   "outputs": [
    {
     "data": {
      "text/plain": [
       "tensor([[2.3026, 0.6931]])"
      ]
     },
     "execution_count": 17,
     "metadata": {},
     "output_type": "execute_result"
    }
   ],
   "source": [
    "def cross_entropy(y_hat, y):\n",
    "    return -torch.log(y_hat[[range(len(y_hat))], y])\n",
    "\n",
    "cross_entropy(y_hat, y)"
   ]
  },
  {
   "cell_type": "code",
   "execution_count": 18,
   "id": "cbac38c3-84a2-4fe3-becc-70d8be2ad042",
   "metadata": {},
   "outputs": [
    {
     "data": {
      "text/plain": [
       "0.5"
      ]
     },
     "execution_count": 18,
     "metadata": {},
     "output_type": "execute_result"
    }
   ],
   "source": [
    "def accuracy(y_hat, y):\n",
    "    \"\"\" 计算预测正确的数量 \"\"\"\n",
    "    if len(y_hat.shape) > 1 and y_hat.shape[1] > 1: # 至少有两个维度，第二个维度数量大于1（也就是不止1列）\n",
    "        y_hat = y_hat.argmax(axis=1) # 选出每行最大的元素的下标，作为新的y_hat\n",
    "\n",
    "    cmp = y_hat.type(y.dtype) == y # == 对数据类型敏感，所以对y_hat类型转化为y的类型\n",
    "    return float(cmp.type(y.dtype).sum())\n",
    "\n",
    "accuracy(y_hat, y) / len(y)"
   ]
  },
  {
   "cell_type": "markdown",
   "id": "d47bfdda-9e04-4d8a-b850-071f9e11cbe2",
   "metadata": {},
   "source": [
    "同样，对于任意数据迭代器data_iter可访问的数据集， 可以评估在任意模型net的精度。"
   ]
  },
  {
   "cell_type": "code",
   "execution_count": 19,
   "id": "0b991d95-2610-43a7-b717-ee384821445e",
   "metadata": {},
   "outputs": [],
   "source": [
    "class Accumulator:\n",
    "    \"\"\"在n个变量上累加\"\"\"\n",
    "    def __init__(self, n):\n",
    "        self.data = [0.0] * n\n",
    "\n",
    "    def add(self, *args):\n",
    "        self.data = [a + float(b) for a, b in zip(self.data, args)]\n",
    "\n",
    "    def reset(self):\n",
    "        self.data = [0.0] * len(self.data)\n",
    "\n",
    "    def __getitem__(self, idx):\n",
    "        return self.data[idx]\n",
    "\n",
    "def evaluate_accuracy(net, data_iter):\n",
    "    \"\"\"计算在指定数据集上模型的精度\"\"\"\n",
    "    if isinstance(net, torch.nn.Module):\n",
    "        net.eval() # 切换到评估模式，确保结果一致性\n",
    "    metric = Accumulator(2) # 2 个元素的累加器\n",
    "    with torch.no_grad():\n",
    "        for X, y in data_iter:\n",
    "            metric.add(accuracy(net(X), y), y.numel()) # 不断累加预测正确的数量、总预测数量\n",
    "\n",
    "    return metric[0] / metric[1]"
   ]
  },
  {
   "cell_type": "markdown",
   "id": "3db3695a-a728-48f7-9dda-dcb4f57ca1d1",
   "metadata": {},
   "source": [
    "简单测试，使用随机初始化参数的模型看看"
   ]
  },
  {
   "cell_type": "code",
   "execution_count": 20,
   "id": "fad4e88d-546e-49e6-8886-e89f70faca9a",
   "metadata": {},
   "outputs": [
    {
     "data": {
      "text/plain": [
       "0.0954"
      ]
     },
     "execution_count": 20,
     "metadata": {},
     "output_type": "execute_result"
    }
   ],
   "source": [
    "evaluate_accuracy(net, test_iter)"
   ]
  },
  {
   "cell_type": "markdown",
   "id": "684dc9ab-72a6-464c-bfc1-eed3ef3d6266",
   "metadata": {},
   "source": [
    "### 定义一个函数来训练一个迭代周期"
   ]
  },
  {
   "cell_type": "code",
   "execution_count": 21,
   "id": "72836eac-f279-484a-b7be-6fecc2dc577e",
   "metadata": {},
   "outputs": [],
   "source": [
    "def train_epoch_ch3(net, train_iter, loss, updater):\n",
    "    \"\"\" 训练模型一个迭代周期 \"\"\"\n",
    "    if isinstance(net, torch.nn.Module):\n",
    "        net.train() # 将模型设置为训练模式\n",
    "\n",
    "    metric = Accumulator(3) # 训练损失总和、训练准确数总和、样本数\n",
    "    for X, y in train_iter:\n",
    "        y_hat = net(X)\n",
    "        l = loss(y_hat, y) # 先预测\n",
    "        # 计算梯度并更新参数\n",
    "        if isinstance(updater, torch.optim.Optimizer):\n",
    "            # 使用PyTorch内置的优化器和损失函数\n",
    "            updater.zero_grad() # 清除上一轮的旧梯度\n",
    "            l.mean().backward() # 反向传播：计算当前梯度\n",
    "            updater.step() # 参数更新：应用梯度更新权重\n",
    "        else:\n",
    "            # 使用定制的优化器和损失函数\n",
    "            l.sum().backward()\n",
    "            updater(X.shape[0])\n",
    "\n",
    "        metric.add(float(l.sum()), accuracy(y_hat, y), y.numel())\n",
    "\n",
    "    # 返回训练损失和训练精度\n",
    "    return metric[0] / metric[2], metric[1] / metric[2]"
   ]
  },
  {
   "cell_type": "markdown",
   "id": "f08e2631-a77a-4f27-a7bb-ec5597e68d25",
   "metadata": {},
   "source": [
    "辅助函数、辅助类"
   ]
  },
  {
   "cell_type": "code",
   "execution_count": 22,
   "id": "e770eed1-a248-4842-bedf-ceb31f1e2a48",
   "metadata": {},
   "outputs": [
    {
     "data": {
      "image/png": "[encoded data removed]",
      "text/plain": [
       "<Figure size 350x250 with 1 Axes>"
      ]
     },
     "metadata": {},
     "output_type": "display_data"
    }
   ],
   "source": [
    "import matplotlib.pyplot as plt\n",
    "from IPython import display\n",
    "\n",
    "class Animator:\n",
    "    \"\"\"在动画中绘制数据\"\"\"\n",
    "    def __init__(self, xlabel=None, ylabel=None, legend=None, xlim=None,\n",
    "                 ylim=None, xscale='linear', yscale='linear',\n",
    "                 fmts=('-', 'm--', 'g-.', 'r:'), nrows=1, ncols=1,\n",
    "                 figsize=(3.5, 2.5)):\n",
    "        # 增量地绘制多条线\n",
    "        if legend is None:\n",
    "            legend = []\n",
    "        \n",
    "        # 设置 SVG 显示\n",
    "        plt.rcParams['figure.figsize'] = figsize\n",
    "        plt.rcParams['svg.fonttype'] = 'none'  # 使 SVG 中的文本可编辑\n",
    "        \n",
    "        self.fig, self.axes = plt.subplots(nrows, ncols, figsize=figsize)\n",
    "        if nrows * ncols == 1:\n",
    "            self.axes = [self.axes]\n",
    "        else:\n",
    "            self.axes = self.axes.flatten()\n",
    "        \n",
    "        # 配置坐标轴\n",
    "        self.config_axes = lambda ax: self._set_axes(\n",
    "            ax, xlabel, ylabel, xlim, ylim, xscale, yscale, legend)\n",
    "        \n",
    "        self.X, self.Y, self.fmts = None, None, fmts\n",
    "        self.legend = legend\n",
    "\n",
    "    def _set_axes(self, ax, xlabel, ylabel, xlim, ylim, xscale, yscale, legend):\n",
    "        \"\"\"设置坐标轴属性\"\"\"\n",
    "        if xlabel:\n",
    "            ax.set_xlabel(xlabel)\n",
    "        if ylabel:\n",
    "            ax.set_ylabel(ylabel)\n",
    "        if xlim:\n",
    "            ax.set_xlim(xlim)\n",
    "        if ylim:\n",
    "            ax.set_ylim(ylim)\n",
    "        if xscale:\n",
    "            ax.set_xscale(xscale)\n",
    "        if yscale:\n",
    "            ax.set_yscale(yscale)\n",
    "        if legend:\n",
    "            ax.legend(legend)\n",
    "        ax.grid(True)\n",
    "\n",
    "    def add(self, x, y):\n",
    "        \"\"\"向图表中添加多个数据点\"\"\"\n",
    "        if not hasattr(y, \"__len__\"):\n",
    "            y = [y]\n",
    "        n = len(y)\n",
    "        if not hasattr(x, \"__len__\"):\n",
    "            x = [x] * n\n",
    "        \n",
    "        # 初始化数据存储\n",
    "        if self.X is None:\n",
    "            self.X = [[] for _ in range(n)]\n",
    "        if self.Y is None:\n",
    "            self.Y = [[] for _ in range(n)]\n",
    "        \n",
    "        # 添加数据点\n",
    "        for i, (a, b) in enumerate(zip(x, y)):\n",
    "            if a is not None and b is not None:\n",
    "                self.X[i].append(a)\n",
    "                self.Y[i].append(b)\n",
    "        \n",
    "        # 清除并重新绘制\n",
    "        self.axes[0].cla()\n",
    "        for i, (x_data, y_data, fmt) in enumerate(zip(self.X, self.Y, self.fmts)):\n",
    "            if x_data and y_data:  # 确保有数据可绘制\n",
    "                self.axes[0].plot(x_data, y_data, fmt)\n",
    "        \n",
    "        # 配置坐标轴\n",
    "        self.config_axes(self.axes[0])\n",
    "        \n",
    "        # 显示图形\n",
    "        display.display(self.fig)\n",
    "        display.clear_output(wait=True)\n",
    "\n",
    "    def close(self):\n",
    "        \"\"\"关闭图形\"\"\"\n",
    "        plt.close(self.fig)\n",
    "\n",
    "# 使用示例\n",
    "if __name__ == \"__main__\":\n",
    "    # 在 Jupyter notebook 中测试\n",
    "    animator = Animator(xlabel='epoch', ylabel='loss', legend=['train loss', 'test loss'])\n",
    "    \n",
    "    # 模拟添加数据\n",
    "    for epoch in range(10):\n",
    "        train_loss = 1.0 / (epoch + 1)\n",
    "        test_loss = 0.8 / (epoch + 1)\n",
    "        animator.add(epoch, [train_loss, test_loss])"
   ]
  },
  {
   "cell_type": "markdown",
   "id": "0a4d47c1-981b-4b33-927c-81c4a1b3a550",
   "metadata": {},
   "source": [
    "### 训练函数"
   ]
  },
  {
   "cell_type": "code",
   "execution_count": 23,
   "id": "0d70988d-b81a-4414-a071-b36361ceee81",
   "metadata": {},
   "outputs": [],
   "source": [
    "def train_ch3(net, train_iter, test_iter, loss, num_epochs, updater):\n",
    "    \"\"\"训练模型\"\"\"\n",
    "    # 定义一个动画显示\n",
    "    animator = Animator(xlabel='epoch', xlim=[1, num_epochs], ylim=[0.3, 0.9],\n",
    "                        legend=['train loss', 'train acc', 'test acc'])\n",
    "    for epoch in range(num_epochs):\n",
    "        train_metrics = train_epoch_ch3(net, train_iter, loss, updater)\n",
    "        test_acc = evaluate_accuracy(net, test_iter)\n",
    "        animator.add(epoch + 1, train_metrics + (test_acc,))\n",
    "        \n",
    "    train_loss, train_acc = train_metrics\n",
    "    # 检测\n",
    "    assert train_loss < 0.5, train_loss\n",
    "    assert train_acc <= 1 and train_acc > 0.7, train_acc\n",
    "    assert test_acc <= 1 and test_acc > 0.7, test_acc"
   ]
  },
  {
   "cell_type": "markdown",
   "id": "592a6928-9a7e-4eda-b855-e5a937be645f",
   "metadata": {},
   "source": [
    "### 优化器实现"
   ]
  },
  {
   "cell_type": "code",
   "execution_count": 24,
   "id": "9e181da0-f9ef-4fef-b5b4-14ee7fe277b1",
   "metadata": {},
   "outputs": [],
   "source": [
    "def sgd(params, lr, batch_size):\n",
    "    \"\"\"小批量随机梯度下降\"\"\"\n",
    "    with torch.no_grad():\n",
    "        for param in params:\n",
    "            param -= lr * param.grad / batch_size # 求导数不影响乘除法，这里除是因为要用平均损失\n",
    "            param.grad.zero_()\n",
    "\n",
    "lr = 0.08\n",
    "\n",
    "def updater(batch_size):\n",
    "    return sgd([W, b], lr, batch_size)"
   ]
  },
  {
   "cell_type": "code",
   "execution_count": 25,
   "id": "af4dc30a-58c8-4ab7-8a84-e9c9e94d422a",
   "metadata": {},
   "outputs": [
    {
     "data": {
      "image/png": "[encoded data removed]",
      "text/plain": [
       "<Figure size 350x250 with 1 Axes>"
      ]
     },
     "metadata": {},
     "output_type": "display_data"
    }
   ],
   "source": [
    "num_epochs = 20\n",
    "train_ch3(net, train_iter, test_iter, cross_entropy, num_epochs, updater)"
   ]
  },
  {
   "cell_type": "markdown",
   "id": "b6e1d518-3d23-461f-aa9c-ed962ca8f4b9",
   "metadata": {},
   "source": [
    "### 进行实际预测"
   ]
  },
  {
   "cell_type": "code",
   "execution_count": 26,
   "id": "e442e170-00ae-42d3-9c69-7a40c9616354",
   "metadata": {},
   "outputs": [
    {
     "data": {
      "image/png": "[encoded data removed]",
      "text/plain": [
       "<Figure size 900x150 with 6 Axes>"
      ]
     },
     "metadata": {},
     "output_type": "display_data"
    }
   ],
   "source": [
    "def predict_ch3(net, test_iter, n=6):\n",
    "    \"\"\"预测标签\"\"\"\n",
    "    for X, y in test_iter:\n",
    "        break\n",
    "        \n",
    "    trues = get_fashion_mnist_labels(y)\n",
    "    preds = get_fashion_mnist_labels(net(X).argmax(axis=1))\n",
    "    titles = [true +'\\n' + pred for true, pred in zip(trues, preds)]\n",
    "\n",
    "    show_images(\n",
    "        X[0:n].reshape((n, 28, 28)), 1, n, titles=titles[0:n])\n",
    "\n",
    "predict_ch3(net, test_iter)"
   ]
  },
  {
   "cell_type": "markdown",
   "id": "1b1832a3-5c95-48f4-8601-9aaa6a151e85",
   "metadata": {},
   "source": [
    "# Softmax 简洁实现"
   ]
  },
  {
   "cell_type": "code",
   "execution_count": 27,
   "id": "41d8b34e-64df-46b1-b431-68539bcea9a1",
   "metadata": {},
   "outputs": [],
   "source": [
    "batch_size = 256\n",
    "train_iter, test_iter = load_data_fashion_mnist(batch_size=batch_size)"
   ]
  },
  {
   "cell_type": "code",
   "execution_count": 28,
   "id": "73a62ca3-6cf5-4496-b24a-c398d5e26986",
   "metadata": {},
   "outputs": [
    {
     "data": {
      "text/plain": [
       "Sequential(\n",
       "  (0): Flatten(start_dim=1, end_dim=-1)\n",
       "  (1): Linear(in_features=784, out_features=10, bias=True)\n",
       ")"
      ]
     },
     "execution_count": 28,
     "metadata": {},
     "output_type": "execute_result"
    }
   ],
   "source": [
    "from torch import nn\n",
    "# PyTorch不会隐式地调整输入的形状。因此，\n",
    "# 我们在线性层前定义了展平层（flatten），来调整网络输入的形状\n",
    "net = nn.Sequential(nn.Flatten(), nn.Linear(784, 10))\n",
    "\n",
    "def init_weights(m):\n",
    "    if type(m) == nn.Linear:\n",
    "        # 对 m层中所有的权重，执行均值0、标准差0.01的正态初始化\n",
    "        # mean=0 默认，这里省略\n",
    "        nn.init.normal_(m.weight, std=0.01) \n",
    "\n",
    "# 遍历所有层，对每个层都执行相同操作\n",
    "net.apply(init_weights)"
   ]
  },
  {
   "cell_type": "markdown",
   "id": "65ba49e1-ee68-421d-a10e-b2389a120fb6",
   "metadata": {},
   "source": [
    "交叉熵损失函数，需要传入未归一化的预测（logits），同时计算softmax及其对数"
   ]
  },
  {
   "cell_type": "code",
   "execution_count": 29,
   "id": "5c367572-b212-4fe0-95c2-c40dd1972fc6",
   "metadata": {},
   "outputs": [],
   "source": [
    "loss = nn.CrossEntropyLoss()"
   ]
  },
  {
   "cell_type": "markdown",
   "id": "53f2cb1e-5e42-4906-acda-52601b112f24",
   "metadata": {},
   "source": [
    "优化算法，使用小批量随机梯度下降"
   ]
  },
  {
   "cell_type": "code",
   "execution_count": 30,
   "id": "e944469e-c9db-45be-b322-7e2862b758ce",
   "metadata": {},
   "outputs": [],
   "source": [
    "trainer = torch.optim.SGD(net.parameters(), lr=0.1)"
   ]
  },
  {
   "cell_type": "markdown",
   "id": "348e68f6-997f-4f48-b590-3058c488500d",
   "metadata": {},
   "source": [
    "开始训练"
   ]
  },
  {
   "cell_type": "code",
   "execution_count": 31,
   "id": "92501032-7a6a-476b-b1f0-fa4ab2accfe9",
   "metadata": {},
   "outputs": [
    {
     "data": {
      "image/png": "[encoded data removed]",
      "text/plain": [
       "<Figure size 350x250 with 1 Axes>"
      ]
     },
     "metadata": {},
     "output_type": "display_data"
    }
   ],
   "source": [
    "num_epochs = 10\n",
    "train_ch3(net, train_iter, test_iter, loss, num_epochs, trainer)"
   ]
  },
  {
   "cell_type": "code",
   "execution_count": null,
   "id": "bfe19a23-75f5-466c-a37c-cf8795f516e8",
   "metadata": {},
   "outputs": [],
   "source": []
  }
 ],
 "metadata": {
  "kernelspec": {
   "display_name": "Python 3 (ipykernel)",
   "language": "python",
   "name": "python3"
  },
  "language_info": {
   "codemirror_mode": {
    "name": "ipython",
    "version": 3
   },
   "file_extension": ".py",
   "mimetype": "text/x-python",
   "name": "python",
   "nbconvert_exporter": "python",
   "pygments_lexer": "ipython3",
   "version": "3.13.2"
  }
 },
 "nbformat": 4,
 "nbformat_minor": 5
}
